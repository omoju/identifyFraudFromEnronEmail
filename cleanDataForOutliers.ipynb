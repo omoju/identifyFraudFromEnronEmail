{
 "cells": [
  {
   "cell_type": "markdown",
   "metadata": {},
   "source": [
    "## Data Exploration\n",
    "\n"
   ]
  },
  {
   "cell_type": "code",
   "execution_count": 132,
   "metadata": {
    "collapsed": false
   },
   "outputs": [
    {
     "name": "stdout",
     "output_type": "stream",
     "text": [
      "Populating the interactive namespace from numpy and matplotlib\n"
     ]
    },
    {
     "name": "stderr",
     "output_type": "stream",
     "text": [
      "WARNING: pylab import has clobbered these variables: ['size', 'clf']\n",
      "`%matplotlib` prevents importing * from pylab and numpy\n"
     ]
    }
   ],
   "source": [
    "%pylab inline"
   ]
  },
  {
   "cell_type": "code",
   "execution_count": 133,
   "metadata": {
    "collapsed": false
   },
   "outputs": [],
   "source": [
    "import sys\n",
    "from time import time\n",
    "import matplotlib as pl\n",
    "import matplotlib.pyplot as plt\n",
    "import pickle"
   ]
  },
  {
   "cell_type": "code",
   "execution_count": 134,
   "metadata": {
    "collapsed": false
   },
   "outputs": [],
   "source": [
    "dataPath = '/Users/omojumiller/mycode/MachineLearningNanoDegree/IntroToMachineLearning/'\n",
    "sys.path.append(dataPath+'tools/')\n",
    "sys.path.append(dataPath+'final_project/')\n",
    "\n",
    "from feature_format import featureFormat, targetFeatureSplit\n",
    "from tester import dump_classifier_and_data\n",
    "from helper_files import compareTwoFeatures, computeFraction"
   ]
  },
  {
   "cell_type": "code",
   "execution_count": 135,
   "metadata": {
    "collapsed": false
   },
   "outputs": [],
   "source": [
    "### Load the dictionary containing the dataset\n",
    "\n",
    "with open(dataPath+'final_project/final_project_dataset.pkl', \"r\") as data_file:\n",
    "    data_dict = pickle.load(data_file)"
   ]
  },
  {
   "cell_type": "code",
   "execution_count": 136,
   "metadata": {
    "collapsed": false
   },
   "outputs": [
    {
     "data": {
      "text/plain": [
       "146"
      ]
     },
     "execution_count": 136,
     "metadata": {},
     "output_type": "execute_result"
    }
   ],
   "source": [
    "len(data_dict)"
   ]
  },
  {
   "cell_type": "markdown",
   "metadata": {},
   "source": [
    "## Task: Data exploration\n",
    "- Get descriptive statistics\n",
    "- If there are outliers, remove outliers\n",
    "\n",
    "This is an iteratable process. I need to do this for each combination of features I want to use\n"
   ]
  },
  {
   "cell_type": "code",
   "execution_count": 187,
   "metadata": {
    "collapsed": true
   },
   "outputs": [],
   "source": [
    "## Creating a pandas dataframe so that we can easily get descriptive statistics about our features\n",
    "\n",
    "import itertools\n",
    "\n",
    "\n",
    "salary = featureFormat(data_dict, ['salary'], remove_any_zeroes=True)\n",
    "bonus = featureFormat(data_dict, ['bonus'], remove_any_zeroes=True)\n",
    "exerStockOptions = featureFormat(data_dict, ['exercised_stock_options'], remove_any_zeroes=True)\n",
    "restrictedStock = featureFormat(data_dict, ['restricted_stock'], remove_any_zeroes=True)\n",
    "\n",
    "bonus = list(itertools.chain.from_iterable(bonus))\n",
    "salary = list(itertools.chain.from_iterable(salary))\n",
    "exerStockOptions = list(itertools.chain.from_iterable(exerStockOptions))\n",
    "restrictedStock = list(itertools.chain.from_iterable(restrictedStock))\n",
    "\n",
    "\n"
   ]
  },
  {
   "cell_type": "code",
   "execution_count": 188,
   "metadata": {
    "collapsed": false
   },
   "outputs": [
    {
     "name": "stdout",
     "output_type": "stream",
     "text": [
      "108\n",
      "108\n",
      "108\n"
     ]
    }
   ],
   "source": [
    "## Pad feature list with zeros to ensure all columns have equal lenght\n",
    "## Otherwise we won't be able to transfor the individual feature list into a dataframe\n",
    "\n",
    "size = len(restrictedStock) - len(bonus)\n",
    "temp = [0.0] * size \n",
    "\n",
    "bonus = bonus + temp\n",
    "print len(bonus)\n",
    "\n",
    "\n",
    "size = len(restrictedStock) - len(salary)\n",
    "temp = [0.0] * size \n",
    "\n",
    "salary = salary + temp\n",
    "print len(salary)\n",
    "\n",
    "\n",
    "size = len(restrictedStock) - len(exerStockOptions)\n",
    "temp = [0.0] * size \n",
    "\n",
    "exerStockOptions = exerStockOptions + temp\n",
    "print len(exerStockOptions)"
   ]
  },
  {
   "cell_type": "code",
   "execution_count": 189,
   "metadata": {
    "collapsed": false
   },
   "outputs": [
    {
     "data": {
      "image/png": "[encoded data removed]",
      "text/plain": [
       "<matplotlib.figure.Figure at 0x117cee450>"
      ]
     },
     "metadata": {},
     "output_type": "display_data"
    }
   ],
   "source": [
    "import pandas as pd\n",
    "\n",
    "\n",
    "df = pd.DataFrame({'salary': salary, 'bonus': bonus, 'exercisedStockOptions': exerStockOptions, \n",
    "                   'restrictedStock': restrictedStock})\n",
    "\n",
    "ax = df['salary'].plot()\n",
    "ax.yaxis.tick_right()\n",
    "\n",
    "_= plt.xlabel('datapoint value')\n",
    "_= plt.title('Salary')\n",
    "\n",
    "_= plt.legend(loc='upper center', shadow=True, fontsize='medium')\n",
    "\n",
    "\n"
   ]
  },
  {
   "cell_type": "code",
   "execution_count": 190,
   "metadata": {
    "collapsed": false
   },
   "outputs": [
    {
     "data": {
      "text/plain": [
       "count        108.000000\n",
       "mean      247261.379630\n",
       "std       190947.697178\n",
       "min            0.000000\n",
       "25%       180245.250000\n",
       "50%       247677.500000\n",
       "75%       288565.750000\n",
       "max      1111258.000000\n",
       "Name: salary, dtype: float64"
      ]
     },
     "execution_count": 190,
     "metadata": {},
     "output_type": "execute_result"
    }
   ],
   "source": [
    "df['salary'].describe()"
   ]
  },
  {
   "cell_type": "code",
   "execution_count": null,
   "metadata": {
    "collapsed": false
   },
   "outputs": [],
   "source": []
  },
  {
   "cell_type": "code",
   "execution_count": 191,
   "metadata": {
    "collapsed": false
   },
   "outputs": [
    {
     "data": {
      "text/plain": [
       "count         108.000000\n",
       "mean      1182164.037037\n",
       "std       2230693.279997\n",
       "min         32460.000000\n",
       "25%        257944.000000\n",
       "50%        451740.000000\n",
       "75%        990811.250000\n",
       "max      14761694.000000\n",
       "Name: restrictedStock, dtype: float64"
      ]
     },
     "execution_count": 191,
     "metadata": {},
     "output_type": "execute_result"
    },
    {
     "data": {
      "image/png": "[encoded data removed]",
      "text/plain": [
       "<matplotlib.figure.Figure at 0x11734c9d0>"
      ]
     },
     "metadata": {},
     "output_type": "display_data"
    }
   ],
   "source": [
    "ax2 = df['restrictedStock'].plot()\n",
    "ax2.yaxis.tick_right()\n",
    "\n",
    "_= plt.xlabel('datapoint value')\n",
    "_= plt.title('Restricted Stock')\n",
    "\n",
    "_= plt.legend(loc='upper center', shadow=True, fontsize='medium')\n",
    "\n",
    "df['restrictedStock'].describe()"
   ]
  },
  {
   "cell_type": "code",
   "execution_count": 194,
   "metadata": {
    "collapsed": false
   },
   "outputs": [
    {
     "name": "stdout",
     "output_type": "stream",
     "text": [
      "2000000.0\n"
     ]
    }
   ],
   "source": [
    "print 0.2e7"
   ]
  },
  {
   "cell_type": "code",
   "execution_count": 177,
   "metadata": {
    "collapsed": false
   },
   "outputs": [
    {
     "data": {
      "text/plain": [
       "count         110.000000\n",
       "mean      1769883.981818\n",
       "std       9293613.494458\n",
       "min             0.000000\n",
       "25%         17500.000000\n",
       "50%        600000.000000\n",
       "75%       1000000.000000\n",
       "max      97343619.000000\n",
       "Name: bonus, dtype: float64"
      ]
     },
     "execution_count": 177,
     "metadata": {},
     "output_type": "execute_result"
    }
   ],
   "source": [
    "df['bonus'].describe()"
   ]
  },
  {
   "cell_type": "code",
   "execution_count": 178,
   "metadata": {
    "collapsed": false
   },
   "outputs": [
    {
     "data": {
      "text/plain": [
       "count         110.000000\n",
       "mean      1769883.981818\n",
       "std       9293613.494458\n",
       "min             0.000000\n",
       "25%         17500.000000\n",
       "50%        600000.000000\n",
       "75%       1000000.000000\n",
       "max      97343619.000000\n",
       "Name: bonus, dtype: float64"
      ]
     },
     "execution_count": 178,
     "metadata": {},
     "output_type": "execute_result"
    },
    {
     "data": {
      "image/png": "[encoded data removed]",
      "text/plain": [
       "<matplotlib.figure.Figure at 0x117c29f10>"
      ]
     },
     "metadata": {},
     "output_type": "display_data"
    }
   ],
   "source": [
    "ax2 = df['bonus'].plot()\n",
    "ax2.yaxis.tick_right()\n",
    "\n",
    "_= plt.xlabel('datapoint value')\n",
    "_= plt.title('Bonus')\n",
    "\n",
    "_= plt.legend(loc='upper center', shadow=True, fontsize='medium')\n",
    "\n",
    "df['bonus'].describe()"
   ]
  },
  {
   "cell_type": "code",
   "execution_count": 179,
   "metadata": {
    "collapsed": false
   },
   "outputs": [
    {
     "name": "stdout",
     "output_type": "stream",
     "text": [
      "16.0 \n",
      "\n",
      "\n",
      "There are 18 POIs in the dataset\n",
      "NAME                \\\\ \n",
      "BELDEN TIMOTHY N    \\\\ \n",
      "BOWEN JR RAYMOND M  \\\\ \n",
      "CALGER CHRISTOPHER F\\\\ \n",
      "CAUSEY RICHARD A    \\\\ \n",
      "COLWELL WESLEY      \\\\ \n",
      "DELAINEY DAVID W    \\\\ \n",
      "FASTOW ANDREW S     \\\\ \n",
      "GLISAN JR BEN F     \\\\ \n",
      "HANNON KEVIN P      \\\\ \n",
      "HIRKO JOSEPH        \\\\ \n",
      "KOENIG MARK E       \\\\ \n",
      "KOPPER MICHAEL J    \\\\ \n",
      "LAY KENNETH L       \\\\ \n",
      "RICE KENNETH D      \\\\ \n",
      "RIEKER PAULA H      \\\\ \n",
      "SHELBY REX          \\\\ \n",
      "SKILLING JEFFREY K  \\\\ \n",
      "YEAGER F SCOTT      \\\\ \n"
     ]
    }
   ],
   "source": [
    "features_list = ['poi','salary', 'bonus']\n",
    "data = featureFormat( data_dict, features_list, remove_any_zeroes=True)\n",
    "labels, features = targetFeatureSplit(data)\n",
    "\n",
    "print sum([x for x in labels if x == 1]), \"\\n\\n\"\n",
    "\n",
    "temp = []\n",
    "poiCount = 0\n",
    "for person in data_dict:\n",
    "    if data_dict[person]['poi']:\n",
    "        poiCount += 1\n",
    "        temp.append(person)\n",
    "       \n",
    "    \n",
    "print \"There are %d POIs in the dataset\" % poiCount\n",
    "            \n",
    "### print out in ascending order of feature2    \n",
    "temp = sort(temp)\n",
    "print \"{:20}{:3}\".format(\"Name\".upper(), '\\\\\\\\')\n",
    "    \n",
    "for item in temp:    \n",
    "    print \"{:20}{:3}\".format(item, '\\\\\\\\')\n",
    " "
   ]
  },
  {
   "cell_type": "code",
   "execution_count": 180,
   "metadata": {
    "collapsed": false
   },
   "outputs": [
    {
     "data": {
      "image/png": "[encoded data removed]",
      "text/plain": [
       "<matplotlib.figure.Figure at 0x11726d610>"
      ]
     },
     "metadata": {},
     "output_type": "display_data"
    }
   ],
   "source": [
    "data = compareTwoFeatures('salary', 'bonus', data_dict, \"SALARY versus BONUS\")"
   ]
  },
  {
   "cell_type": "markdown",
   "metadata": {},
   "source": [
    "1. I need to find out where that outlier is\n",
    "2. Find out who it is"
   ]
  },
  {
   "cell_type": "code",
   "execution_count": 181,
   "metadata": {
    "collapsed": false
   },
   "outputs": [
    {
     "data": {
      "text/plain": [
       "(array([57]), array([1]))"
      ]
     },
     "execution_count": 181,
     "metadata": {},
     "output_type": "execute_result"
    }
   ],
   "source": [
    "np.where(data > 0.8 * 1e8) # This is where the outlier is, what I have to do now is find out who it is\n"
   ]
  },
  {
   "cell_type": "code",
   "execution_count": 182,
   "metadata": {
    "collapsed": false
   },
   "outputs": [
    {
     "data": {
      "text/plain": [
       "array([ 26704229.,  97343619.])"
      ]
     },
     "execution_count": 182,
     "metadata": {},
     "output_type": "execute_result"
    }
   ],
   "source": [
    "data[57] # So whose bonus is 97343619?\n",
    "# What’s the name of the dictionary key of this data point?"
   ]
  },
  {
   "cell_type": "code",
   "execution_count": 183,
   "metadata": {
    "collapsed": false
   },
   "outputs": [
    {
     "name": "stdout",
     "output_type": "stream",
     "text": [
      "TOTAL               salary is   $26,704,229.00 bonus      $97,343,619.00\n",
      "BHATNAGAR SANJAY\n"
     ]
    }
   ],
   "source": [
    "for key, value in data_dict.iteritems():\n",
    "    if (value['bonus'] >= int(data[57][1]) and \n",
    "        value['bonus'] != \"NaN\" and\n",
    "        value['salary'] != \"NaN\"):\n",
    "        print \"{:20}{:12}${:<12,.2f}{:12}${:<12,.2f}\".format(key, 'salary is ', value['salary'],\n",
    "                                                   ' bonus ', value['bonus'])\n",
    "        \n",
    "    if (value['restricted_stock'] < 0):\n",
    "        print key\n",
    "\n"
   ]
  },
  {
   "cell_type": "markdown",
   "metadata": {},
   "source": [
    "Found the source of the outlier. It was the `TOTAL` row that was mistakenly read into the data dict"
   ]
  },
  {
   "cell_type": "code",
   "execution_count": 184,
   "metadata": {
    "collapsed": false
   },
   "outputs": [
    {
     "data": {
      "text/plain": [
       "{'bonus': 'NaN',\n",
       " 'deferral_payments': 'NaN',\n",
       " 'deferred_income': 'NaN',\n",
       " 'director_fees': 137864,\n",
       " 'email_address': 'sanjay.bhatnagar@enron.com',\n",
       " 'exercised_stock_options': 2604490,\n",
       " 'expenses': 'NaN',\n",
       " 'from_messages': 29,\n",
       " 'from_poi_to_this_person': 0,\n",
       " 'from_this_person_to_poi': 1,\n",
       " 'loan_advances': 'NaN',\n",
       " 'long_term_incentive': 'NaN',\n",
       " 'other': 137864,\n",
       " 'poi': False,\n",
       " 'restricted_stock': -2604490,\n",
       " 'restricted_stock_deferred': 15456290,\n",
       " 'salary': 'NaN',\n",
       " 'shared_receipt_with_poi': 463,\n",
       " 'to_messages': 523,\n",
       " 'total_payments': 15456290,\n",
       " 'total_stock_value': 'NaN'}"
      ]
     },
     "execution_count": 184,
     "metadata": {},
     "output_type": "execute_result"
    }
   ],
   "source": [
    "# Remove the source of the outlier\n",
    "data_dict.pop( 'TOTAL')\n",
    "data_dict.pop( 'BHATNAGAR SANJAY')\n",
    "\n",
    "# We can now go back and rerun the regression to see what the data really looks like."
   ]
  },
  {
   "cell_type": "code",
   "execution_count": 185,
   "metadata": {
    "collapsed": false
   },
   "outputs": [
    {
     "data": {
      "image/png": "[encoded data removed]",
      "text/plain": [
       "<matplotlib.figure.Figure at 0x117f91910>"
      ]
     },
     "metadata": {},
     "output_type": "display_data"
    }
   ],
   "source": [
    "data = compareTwoFeatures('salary', 'bonus', data_dict, \"SALARY versus BONUS cleansed of outliers\")"
   ]
  },
  {
   "cell_type": "code",
   "execution_count": 127,
   "metadata": {
    "collapsed": false
   },
   "outputs": [
    {
     "name": "stdout",
     "output_type": "stream",
     "text": [
      "slope of regression is 0.06\n",
      "intercepts of regression is 228110.92\n",
      "\n",
      " ********stats on dataset********\n",
      "\n",
      "r-squared score on testing data:  0.155149949337\n",
      "r-squared score on training data:  0.338267203092\n"
     ]
    },
    {
     "data": {
      "image/png": "[encoded data removed]",
      "text/plain": [
       "<matplotlib.figure.Figure at 0x117cee750>"
      ]
     },
     "metadata": {},
     "output_type": "display_data"
    }
   ],
   "source": [
    "features_list = ['salary', 'bonus']\n",
    "data = featureFormat( data_dict, features_list, remove_any_zeroes=True)\n",
    "target, features = targetFeatureSplit( data )\n",
    "\n",
    "\n",
    "### training-testing split needed in regression, just like classification\n",
    "from sklearn.cross_validation import train_test_split\n",
    "feature_train, feature_test, target_train, target_test = train_test_split(features, \n",
    "                                            target, test_size=0.3, random_state=42)\n",
    "\n",
    "\n",
    "import numpy as np\n",
    "target_test = np.asarray(target_test).reshape(-1,1)\n",
    "\n",
    "from sklearn import linear_model\n",
    "reg = linear_model.LinearRegression()\n",
    "    \n",
    "# Reshape data using X.reshape(-1, 1) since data has a single feature or X.\n",
    "clf = reg.fit(feature_train, target_train)\n",
    "\n",
    "\n",
    "print \"slope of regression is %.2f\" % reg.coef_\n",
    "print \"intercepts of regression is %.2f\" % reg.intercept_\n",
    "print \"\\n ********stats on dataset********\\n\"\n",
    "print \"r-squared score on testing data: \", reg.score(feature_test, target_test)\n",
    "print \"r-squared score on training data: \", reg.score(feature_train, target_train)\n",
    "\n",
    "plt.clf()\n",
    "plt.scatter(feature_train, target_train, color=\"c\", label=\"train data\")\n",
    "plt.scatter(feature_test, target_test, color=\"y\", label=\"test data\")\n",
    "plt.plot(target_test, reg.predict(target_test), color=\"k\")\n",
    "plt.legend(loc=2)\n",
    "plt.ylabel(features_list[0])\n",
    "plt.xlabel(features_list[1])\n",
    "plt.title('Regression on the '+features_list[0]+' against the '+features_list[1])\n",
    "plt.show()"
   ]
  },
  {
   "cell_type": "code",
   "execution_count": 111,
   "metadata": {
    "collapsed": false
   },
   "outputs": [],
   "source": []
  },
  {
   "cell_type": "code",
   "execution_count": null,
   "metadata": {
    "collapsed": false
   },
   "outputs": [],
   "source": []
  },
  {
   "cell_type": "code",
   "execution_count": null,
   "metadata": {
    "collapsed": true
   },
   "outputs": [],
   "source": []
  },
  {
   "cell_type": "markdown",
   "metadata": {},
   "source": [
    "## Task 6: Export data \n",
    "Dump  dataset to a .pkl file."
   ]
  },
  {
   "cell_type": "code",
   "execution_count": 192,
   "metadata": {
    "collapsed": false
   },
   "outputs": [],
   "source": [
    "DATASET_PICKLE_FILENAME = \"cleaned_dataset.pkl\"\n",
    "\n",
    "with open(DATASET_PICKLE_FILENAME, \"w\") as dataset_outfile:\n",
    "    pickle.dump(data_dict, dataset_outfile)\n",
    "   "
   ]
  },
  {
   "cell_type": "code",
   "execution_count": null,
   "metadata": {
    "collapsed": true
   },
   "outputs": [],
   "source": []
  }
 ],
 "metadata": {
  "kernelspec": {
   "display_name": "Python 2",
   "language": "python",
   "name": "python2"
  },
  "language_info": {
   "codemirror_mode": {
    "name": "ipython",
    "version": 2
   },
   "file_extension": ".py",
   "mimetype": "text/x-python",
   "name": "python",
   "nbconvert_exporter": "python",
   "pygments_lexer": "ipython2",
   "version": "2.7.11"
  }
 },
 "nbformat": 4,
 "nbformat_minor": 0
}
