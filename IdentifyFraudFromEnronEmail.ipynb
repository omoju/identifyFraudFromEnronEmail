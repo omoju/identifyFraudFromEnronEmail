{
 "cells": [
  {
   "cell_type": "markdown",
   "metadata": {},
   "source": [
    "## Identify Fraud from Enron Email\n",
    "#### Project Overview\n",
    "In this project, you will play detective, and put your machine learning skills to use by building an algorithm to identify Enron Employees who may have committed fraud based on the public Enron financial and email dataset.\n",
    "\n",
    "#### Project Introduction\n",
    "In 2000, Enron was one of the largest companies in the United States. By 2002, it had collapsed into bankruptcy due to widespread corporate fraud. In the resulting Federal investigation, there was a significant amount of typically confidential information entered into public record, including tens of thousands of emails and detailed financial data for top executives. In this project, you will play detective, and put your new skills to use by building a person of interest identifier based on financial and email data made public as a result of the Enron scandal. To assist you in your detective work, we've combined this data with a hand-generated list of persons of interest in the fraud case, which means individuals who were indicted, reached a settlement, or plea deal with the government, or testified in exchange for prosecution immunity.\n",
    "\n"
   ]
  },
  {
   "cell_type": "code",
   "execution_count": 1,
   "metadata": {
    "collapsed": false
   },
   "outputs": [
    {
     "name": "stdout",
     "output_type": "stream",
     "text": [
      "Populating the interactive namespace from numpy and matplotlib\n"
     ]
    }
   ],
   "source": [
    "%pylab inline"
   ]
  },
  {
   "cell_type": "code",
   "execution_count": 2,
   "metadata": {
    "collapsed": false
   },
   "outputs": [],
   "source": [
    "import sys\n",
    "from time import time\n",
    "\n",
    "import numpy as np\n",
    "import pandas as pd\n",
    "import pickle\n",
    "\n",
    "import matplotlib as pl\n",
    "import matplotlib.patches as mpatches\n",
    "import matplotlib.pyplot as plt\n",
    "import seaborn as sns\n",
    "from pylab import fill_between\n",
    "sns.set_style(\"white\")\n"
   ]
  },
  {
   "cell_type": "code",
   "execution_count": 3,
   "metadata": {
    "collapsed": false
   },
   "outputs": [],
   "source": [
    "dataPath = '/Users/omojumiller/mycode/MachineLearningNanoDegree/IntroToMachineLearning/'\n",
    "sys.path.append(dataPath+'tools/')\n",
    "sys.path.append(dataPath+'final_project/')\n",
    "\n",
    "from feature_format import featureFormat, targetFeatureSplit\n",
    "from tester import dump_classifier_and_data\n",
    "from helper_files import compareTwoFeatures, computeFraction, findPersonBasedOnTwoFeatures \n",
    "from helper_files import validateClf, printClassifierOutputTable, printDataTableAtThreshold"
   ]
  },
  {
   "cell_type": "markdown",
   "metadata": {},
   "source": [
    "# Optimize Feature Selection/Engineering\n",
    "## Task 1: Feature selection\n",
    "\n",
    "The dataset used in this project is stored in a Python dictionary created by combining the Enron email and financial data, where each key-value pair in the dictionary corresponds to one person. The dictionary key is the person's name, and the value is another dictionary, which contains the names of all the features and their values for that person. The features in the data fall into three major types, namely financial features, email features and POI labels.\n",
    "\n",
    "financial features: ['salary', 'deferral_payments', 'total_payments', 'loan_advances', 'bonus', 'restricted_stock_deferred', 'deferred_income', 'total_stock_value', 'expenses', 'exercised_stock_options', 'other', 'long_term_incentive', 'restricted_stock', 'director_fees']\n",
    "\n",
    "email features: ['to_messages', 'email_address', 'from_poi_to_this_person', 'from_messages', 'from_this_person_to_poi', 'shared_receipt_with_poi']\n",
    "\n",
    "POI label: [‘poi’]\n",
    "\n",
    "You can take a look at this [enron61702insiderpay.pdf](enron61702insiderpay.pdf) file to get a feel of the data yourself.\n"
   ]
  },
  {
   "cell_type": "code",
   "execution_count": 27,
   "metadata": {
    "collapsed": false
   },
   "outputs": [],
   "source": [
    "### Load the dictionary containing the dataset\n",
    "### The data that I am loading in here is the one that has be cleansed of outliers. \n",
    "### For more information on that, refer to the notebook titled \"cleanDataForOutliers\" in the same folder.\n",
    "\n",
    "with open(dataPath+'final_project/final_project_dataset.pkl', \"r\") as data_file:\n",
    "    data_dict = pickle.load(data_file)\n",
    "    \n",
    "    "
   ]
  },
  {
   "cell_type": "code",
   "execution_count": 28,
   "metadata": {
    "collapsed": true
   },
   "outputs": [],
   "source": [
    "#Stylistic Options for plots\n",
    "tableau20 = [(31, 119, 180), (174, 199, 232), (255, 127, 14), (255, 187, 120),    \n",
    "             (44, 160, 44), (152, 223, 138), (214, 39, 40), (255, 152, 150),    \n",
    "             (148, 103, 189), (197, 176, 213), (140, 86, 75), (196, 156, 148),    \n",
    "             (227, 119, 194), (247, 182, 210), (127, 127, 127), (199, 199, 199),    \n",
    "             (188, 189, 34), (219, 219, 141), (23, 190, 207), (158, 218, 229)]  \n",
    "\n",
    "for i in range(len(tableau20)):    \n",
    "    r, g, b = tableau20[i]    \n",
    "    tableau20[i] = (r / 255., g / 255., b / 255.)"
   ]
  },
  {
   "cell_type": "markdown",
   "metadata": {},
   "source": [
    "## Data Exploration\n",
    "\n",
    "- Lets find the following facts about our dataset\n",
    "    - Total number of data points\n",
    "    - Allocation across classes (POI/non-POI)\n",
    "    - Number of features used\n",
    "    - Are there features with many missing values? etc."
   ]
  },
  {
   "cell_type": "code",
   "execution_count": 29,
   "metadata": {
    "collapsed": false
   },
   "outputs": [],
   "source": [
    "from __future__ import division\n"
   ]
  },
  {
   "cell_type": "code",
   "execution_count": 30,
   "metadata": {
    "collapsed": false
   },
   "outputs": [],
   "source": [
    "allFeatures = ['poi', \n",
    "'bonus','deferral_payments',\n",
    "'deferred_income', 'director_fees','exercised_stock_options','expenses',\n",
    "'from_messages','from_poi_to_this_person','from_this_person_to_poi',\n",
    "'loan_advances','long_term_incentive','other','restricted_stock','restricted_stock_deferred', 'salary',\n",
    "'shared_receipt_with_poi','to_messages','total_payments','total_stock_value']\n",
    "\n",
    "# 'email_address' I took out this feature because it could not be converted to an int or float\n",
    "\n",
    "mydata = featureFormat(data_dict, allFeatures, remove_NaN=False, remove_all_zeroes=False, remove_any_zeroes=False)"
   ]
  },
  {
   "cell_type": "code",
   "execution_count": 31,
   "metadata": {
    "collapsed": false
   },
   "outputs": [
    {
     "data": {
      "text/html": [
       "<div>\n",
       "<table border=\"1\" class=\"dataframe\">\n",
       "  <thead>\n",
       "    <tr style=\"text-align: right;\">\n",
       "      <th></th>\n",
       "      <th>poi</th>\n",
       "      <th>bonus</th>\n",
       "      <th>deferral_payments</th>\n",
       "      <th>deferred_income</th>\n",
       "      <th>director_fees</th>\n",
       "      <th>exercised_stock_options</th>\n",
       "      <th>expenses</th>\n",
       "      <th>from_messages</th>\n",
       "      <th>from_poi_to_this_person</th>\n",
       "      <th>from_this_person_to_poi</th>\n",
       "      <th>loan_advances</th>\n",
       "      <th>long_term_incentive</th>\n",
       "      <th>other</th>\n",
       "      <th>restricted_stock</th>\n",
       "      <th>restricted_stock_deferred</th>\n",
       "      <th>salary</th>\n",
       "      <th>shared_receipt_with_poi</th>\n",
       "      <th>to_messages</th>\n",
       "      <th>total_payments</th>\n",
       "      <th>total_stock_value</th>\n",
       "    </tr>\n",
       "  </thead>\n",
       "  <tbody>\n",
       "    <tr>\n",
       "      <th>0</th>\n",
       "      <td>0</td>\n",
       "      <td>600000</td>\n",
       "      <td>NaN</td>\n",
       "      <td>NaN</td>\n",
       "      <td>NaN</td>\n",
       "      <td>NaN</td>\n",
       "      <td>94299</td>\n",
       "      <td>29</td>\n",
       "      <td>38</td>\n",
       "      <td>1</td>\n",
       "      <td>NaN</td>\n",
       "      <td>NaN</td>\n",
       "      <td>1740</td>\n",
       "      <td>585062</td>\n",
       "      <td>NaN</td>\n",
       "      <td>365788</td>\n",
       "      <td>702</td>\n",
       "      <td>807</td>\n",
       "      <td>1061827</td>\n",
       "      <td>585062</td>\n",
       "    </tr>\n",
       "    <tr>\n",
       "      <th>1</th>\n",
       "      <td>0</td>\n",
       "      <td>1200000</td>\n",
       "      <td>1295738</td>\n",
       "      <td>-1386055</td>\n",
       "      <td>NaN</td>\n",
       "      <td>6680544</td>\n",
       "      <td>11200</td>\n",
       "      <td>NaN</td>\n",
       "      <td>NaN</td>\n",
       "      <td>NaN</td>\n",
       "      <td>NaN</td>\n",
       "      <td>1586055</td>\n",
       "      <td>2660303</td>\n",
       "      <td>3942714</td>\n",
       "      <td>NaN</td>\n",
       "      <td>267102</td>\n",
       "      <td>NaN</td>\n",
       "      <td>NaN</td>\n",
       "      <td>5634343</td>\n",
       "      <td>10623258</td>\n",
       "    </tr>\n",
       "    <tr>\n",
       "      <th>2</th>\n",
       "      <td>0</td>\n",
       "      <td>350000</td>\n",
       "      <td>NaN</td>\n",
       "      <td>-400729</td>\n",
       "      <td>NaN</td>\n",
       "      <td>4890344</td>\n",
       "      <td>78552</td>\n",
       "      <td>NaN</td>\n",
       "      <td>NaN</td>\n",
       "      <td>NaN</td>\n",
       "      <td>NaN</td>\n",
       "      <td>NaN</td>\n",
       "      <td>12961</td>\n",
       "      <td>1788391</td>\n",
       "      <td>NaN</td>\n",
       "      <td>170941</td>\n",
       "      <td>NaN</td>\n",
       "      <td>NaN</td>\n",
       "      <td>211725</td>\n",
       "      <td>6678735</td>\n",
       "    </tr>\n",
       "    <tr>\n",
       "      <th>3</th>\n",
       "      <td>0</td>\n",
       "      <td>NaN</td>\n",
       "      <td>NaN</td>\n",
       "      <td>NaN</td>\n",
       "      <td>NaN</td>\n",
       "      <td>651850</td>\n",
       "      <td>NaN</td>\n",
       "      <td>12</td>\n",
       "      <td>10</td>\n",
       "      <td>0</td>\n",
       "      <td>NaN</td>\n",
       "      <td>NaN</td>\n",
       "      <td>NaN</td>\n",
       "      <td>386335</td>\n",
       "      <td>NaN</td>\n",
       "      <td>NaN</td>\n",
       "      <td>58</td>\n",
       "      <td>764</td>\n",
       "      <td>NaN</td>\n",
       "      <td>1038185</td>\n",
       "    </tr>\n",
       "    <tr>\n",
       "      <th>4</th>\n",
       "      <td>1</td>\n",
       "      <td>1500000</td>\n",
       "      <td>NaN</td>\n",
       "      <td>-3117011</td>\n",
       "      <td>NaN</td>\n",
       "      <td>5538001</td>\n",
       "      <td>34039</td>\n",
       "      <td>32</td>\n",
       "      <td>32</td>\n",
       "      <td>21</td>\n",
       "      <td>NaN</td>\n",
       "      <td>1617011</td>\n",
       "      <td>11350</td>\n",
       "      <td>853064</td>\n",
       "      <td>NaN</td>\n",
       "      <td>243293</td>\n",
       "      <td>1035</td>\n",
       "      <td>1045</td>\n",
       "      <td>288682</td>\n",
       "      <td>6391065</td>\n",
       "    </tr>\n",
       "  </tbody>\n",
       "</table>\n",
       "</div>"
      ],
      "text/plain": [
       "   poi    bonus  deferral_payments  deferred_income  director_fees  \\\n",
       "0    0   600000                NaN              NaN            NaN   \n",
       "1    0  1200000            1295738         -1386055            NaN   \n",
       "2    0   350000                NaN          -400729            NaN   \n",
       "3    0      NaN                NaN              NaN            NaN   \n",
       "4    1  1500000                NaN         -3117011            NaN   \n",
       "\n",
       "   exercised_stock_options  expenses  from_messages  from_poi_to_this_person  \\\n",
       "0                      NaN     94299             29                       38   \n",
       "1                  6680544     11200            NaN                      NaN   \n",
       "2                  4890344     78552            NaN                      NaN   \n",
       "3                   651850       NaN             12                       10   \n",
       "4                  5538001     34039             32                       32   \n",
       "\n",
       "   from_this_person_to_poi  loan_advances  long_term_incentive    other  \\\n",
       "0                        1            NaN                  NaN     1740   \n",
       "1                      NaN            NaN              1586055  2660303   \n",
       "2                      NaN            NaN                  NaN    12961   \n",
       "3                        0            NaN                  NaN      NaN   \n",
       "4                       21            NaN              1617011    11350   \n",
       "\n",
       "   restricted_stock  restricted_stock_deferred  salary  \\\n",
       "0            585062                        NaN  365788   \n",
       "1           3942714                        NaN  267102   \n",
       "2           1788391                        NaN  170941   \n",
       "3            386335                        NaN     NaN   \n",
       "4            853064                        NaN  243293   \n",
       "\n",
       "   shared_receipt_with_poi  to_messages  total_payments  total_stock_value  \n",
       "0                      702          807         1061827             585062  \n",
       "1                      NaN          NaN         5634343           10623258  \n",
       "2                      NaN          NaN          211725            6678735  \n",
       "3                       58          764             NaN            1038185  \n",
       "4                     1035         1045          288682            6391065  "
      ]
     },
     "execution_count": 31,
     "metadata": {},
     "output_type": "execute_result"
    }
   ],
   "source": [
    "df = pd.DataFrame(mydata)\n",
    "df.columns = allFeatures\n",
    "\n",
    "df.head()"
   ]
  },
  {
   "cell_type": "code",
   "execution_count": 32,
   "metadata": {
    "collapsed": false
   },
   "outputs": [
    {
     "name": "stdout",
     "output_type": "stream",
     "text": [
      "Total number of data points: 146\n",
      "Total number of POI: 18\n",
      "Total number of Non POI: 128\n",
      "Number of features used: 20\n",
      "Are there features with many missing values?: yes\n"
     ]
    }
   ],
   "source": [
    "n_datapoints = len(df)\n",
    "n_features = len(df.columns) - 1\n",
    "n_poi = len(df.query('poi == 1'))\n",
    "n_npoi = len(df.query('poi == 0'))\n",
    "\n",
    "\n",
    "print \"%s: %d\" % (\"Total number of data points\", len(df))\n",
    "print \"%s: %d\" % ('Total number of POI', n_poi)\n",
    "print \"%s: %d\" % ('Total number of Non POI', n_npoi)\n",
    "print \"%s: %d\" % (\"Number of features used\", n_features + 1) #for the email address feature\n",
    "print \"%s: %s\" % (\"Are there features with many missing values?\", \"yes\")"
   ]
  },
  {
   "cell_type": "code",
   "execution_count": 33,
   "metadata": {
    "collapsed": false
   },
   "outputs": [],
   "source": [
    "plt.rcParams[\"axes.labelsize\"] = 16.\n",
    "plt.rcParams[\"xtick.labelsize\"] = 14.\n",
    "plt.rcParams[\"ytick.labelsize\"] = 14.\n",
    "plt.rcParams[\"legend.fontsize\"] = 11.\n",
    "plt.rcParams[\"axes.titlesize\"] = 1.25 * plt.rcParams['font.size']\n",
    "plt.rcParams['figure.figsize'] = (8, 6)\n"
   ]
  },
  {
   "cell_type": "code",
   "execution_count": 34,
   "metadata": {
    "collapsed": false
   },
   "outputs": [
    {
     "data": {
      "image/png": "[encoded data removed]",
      "text/plain": [
       "<matplotlib.figure.Figure at 0x117cbbd50>"
      ]
     },
     "metadata": {},
     "output_type": "display_data"
    }
   ],
   "source": [
    "p = df['poi'].plot(kind = 'hist', rot = 0)\n",
    "_ = p.set_xlabel('datapoint value'), p.set_ylabel(\"Frequency\"), p.legend([\"poi\"])\n",
    "_ = p.yaxis.tick_right()\n",
    "_ = p.set_title('Histogram of POI values')"
   ]
  },
  {
   "cell_type": "code",
   "execution_count": 35,
   "metadata": {
    "collapsed": false
   },
   "outputs": [
    {
     "name": "stdout",
     "output_type": "stream",
     "text": [
      "poi                           0.0000\n",
      "bonus                         0.4384\n",
      "deferral_payments             0.7329\n",
      "deferred_income               0.6644\n",
      "director_fees                 0.8836\n",
      "exercised_stock_options       0.3014\n",
      "expenses                      0.3493\n",
      "from_messages                 0.4110\n",
      "from_poi_to_this_person       0.4110\n",
      "from_this_person_to_poi       0.4110\n",
      "loan_advances                 0.9726\n",
      "long_term_incentive           0.5479\n",
      "other                         0.3630\n",
      "restricted_stock              0.2466\n",
      "restricted_stock_deferred     0.8767\n",
      "salary                        0.3493\n",
      "shared_receipt_with_poi       0.4110\n",
      "to_messages                   0.4110\n",
      "total_payments                0.1438\n",
      "total_stock_value             0.1370\n"
     ]
    },
    {
     "data": {
      "image/png": "[encoded data removed]",
      "text/plain": [
       "<matplotlib.figure.Figure at 0x1185abd50>"
      ]
     },
     "metadata": {},
     "output_type": "display_data"
    }
   ],
   "source": [
    "# Find features that have any missing values and list their percentages\n",
    "count_nan = (len(df) - df.count()) / len(df)\n",
    "percentage_nan = {}\n",
    "\n",
    "for item in range (0, len(count_nan)):\n",
    "    print \"{:30}{:4.4f}\".format(count_nan.index[item], count_nan[item])\n",
    "    percentage_nan[count_nan.index[item]] = count_nan[item]\n",
    "    \n",
    "\n",
    "w = 0.4\n",
    "\n",
    "\n",
    "plt.rcParams['figure.figsize'] = (10, 12)\n",
    "percentage_nan_frame = pd.DataFrame({'Percentage': list(percentage_nan.values()),\n",
    "                                     'Feature': list(percentage_nan.keys())})\n",
    "percentage_nan_frame.sort_values(by = 'Percentage', inplace = True)\n",
    "ax =percentage_nan_frame.plot(kind = 'barh',  width=w, x = 'Feature', color = tableau20[16], \n",
    "                              title=\"Features Mapped By Percentage Missing Values\")\n",
    "\n",
    "plt.rcParams['figure.figsize'] = (8, 6)"
   ]
  },
  {
   "cell_type": "code",
   "execution_count": 36,
   "metadata": {
    "collapsed": false
   },
   "outputs": [
    {
     "data": {
      "text/html": [
       "<div>\n",
       "<table border=\"1\" class=\"dataframe\">\n",
       "  <thead>\n",
       "    <tr style=\"text-align: right;\">\n",
       "      <th></th>\n",
       "      <th>poi</th>\n",
       "      <th>bonus</th>\n",
       "      <th>deferral_payments</th>\n",
       "      <th>deferred_income</th>\n",
       "      <th>director_fees</th>\n",
       "      <th>exercised_stock_options</th>\n",
       "      <th>expenses</th>\n",
       "      <th>from_messages</th>\n",
       "      <th>from_poi_to_this_person</th>\n",
       "      <th>from_this_person_to_poi</th>\n",
       "      <th>loan_advances</th>\n",
       "      <th>long_term_incentive</th>\n",
       "      <th>other</th>\n",
       "      <th>restricted_stock</th>\n",
       "      <th>restricted_stock_deferred</th>\n",
       "      <th>salary</th>\n",
       "      <th>shared_receipt_with_poi</th>\n",
       "      <th>to_messages</th>\n",
       "      <th>total_payments</th>\n",
       "      <th>total_stock_value</th>\n",
       "    </tr>\n",
       "  </thead>\n",
       "  <tbody>\n",
       "    <tr>\n",
       "      <th>0</th>\n",
       "      <td>0</td>\n",
       "      <td>600000</td>\n",
       "      <td>0</td>\n",
       "      <td>0</td>\n",
       "      <td>0</td>\n",
       "      <td>0</td>\n",
       "      <td>94299</td>\n",
       "      <td>29</td>\n",
       "      <td>38</td>\n",
       "      <td>1</td>\n",
       "      <td>0</td>\n",
       "      <td>0</td>\n",
       "      <td>1740</td>\n",
       "      <td>585062</td>\n",
       "      <td>0</td>\n",
       "      <td>365788</td>\n",
       "      <td>702</td>\n",
       "      <td>807</td>\n",
       "      <td>1061827</td>\n",
       "      <td>585062</td>\n",
       "    </tr>\n",
       "    <tr>\n",
       "      <th>1</th>\n",
       "      <td>0</td>\n",
       "      <td>1200000</td>\n",
       "      <td>1295738</td>\n",
       "      <td>-1386055</td>\n",
       "      <td>0</td>\n",
       "      <td>6680544</td>\n",
       "      <td>11200</td>\n",
       "      <td>0</td>\n",
       "      <td>0</td>\n",
       "      <td>0</td>\n",
       "      <td>0</td>\n",
       "      <td>1586055</td>\n",
       "      <td>2660303</td>\n",
       "      <td>3942714</td>\n",
       "      <td>0</td>\n",
       "      <td>267102</td>\n",
       "      <td>0</td>\n",
       "      <td>0</td>\n",
       "      <td>5634343</td>\n",
       "      <td>10623258</td>\n",
       "    </tr>\n",
       "    <tr>\n",
       "      <th>2</th>\n",
       "      <td>0</td>\n",
       "      <td>350000</td>\n",
       "      <td>0</td>\n",
       "      <td>-400729</td>\n",
       "      <td>0</td>\n",
       "      <td>4890344</td>\n",
       "      <td>78552</td>\n",
       "      <td>0</td>\n",
       "      <td>0</td>\n",
       "      <td>0</td>\n",
       "      <td>0</td>\n",
       "      <td>0</td>\n",
       "      <td>12961</td>\n",
       "      <td>1788391</td>\n",
       "      <td>0</td>\n",
       "      <td>170941</td>\n",
       "      <td>0</td>\n",
       "      <td>0</td>\n",
       "      <td>211725</td>\n",
       "      <td>6678735</td>\n",
       "    </tr>\n",
       "    <tr>\n",
       "      <th>3</th>\n",
       "      <td>0</td>\n",
       "      <td>0</td>\n",
       "      <td>0</td>\n",
       "      <td>0</td>\n",
       "      <td>0</td>\n",
       "      <td>651850</td>\n",
       "      <td>0</td>\n",
       "      <td>12</td>\n",
       "      <td>10</td>\n",
       "      <td>0</td>\n",
       "      <td>0</td>\n",
       "      <td>0</td>\n",
       "      <td>0</td>\n",
       "      <td>386335</td>\n",
       "      <td>0</td>\n",
       "      <td>0</td>\n",
       "      <td>58</td>\n",
       "      <td>764</td>\n",
       "      <td>0</td>\n",
       "      <td>1038185</td>\n",
       "    </tr>\n",
       "    <tr>\n",
       "      <th>4</th>\n",
       "      <td>1</td>\n",
       "      <td>1500000</td>\n",
       "      <td>0</td>\n",
       "      <td>-3117011</td>\n",
       "      <td>0</td>\n",
       "      <td>5538001</td>\n",
       "      <td>34039</td>\n",
       "      <td>32</td>\n",
       "      <td>32</td>\n",
       "      <td>21</td>\n",
       "      <td>0</td>\n",
       "      <td>1617011</td>\n",
       "      <td>11350</td>\n",
       "      <td>853064</td>\n",
       "      <td>0</td>\n",
       "      <td>243293</td>\n",
       "      <td>1035</td>\n",
       "      <td>1045</td>\n",
       "      <td>288682</td>\n",
       "      <td>6391065</td>\n",
       "    </tr>\n",
       "  </tbody>\n",
       "</table>\n",
       "</div>"
      ],
      "text/plain": [
       "   poi    bonus  deferral_payments  deferred_income  director_fees  \\\n",
       "0    0   600000                  0                0              0   \n",
       "1    0  1200000            1295738         -1386055              0   \n",
       "2    0   350000                  0          -400729              0   \n",
       "3    0        0                  0                0              0   \n",
       "4    1  1500000                  0         -3117011              0   \n",
       "\n",
       "   exercised_stock_options  expenses  from_messages  from_poi_to_this_person  \\\n",
       "0                        0     94299             29                       38   \n",
       "1                  6680544     11200              0                        0   \n",
       "2                  4890344     78552              0                        0   \n",
       "3                   651850         0             12                       10   \n",
       "4                  5538001     34039             32                       32   \n",
       "\n",
       "   from_this_person_to_poi  loan_advances  long_term_incentive    other  \\\n",
       "0                        1              0                    0     1740   \n",
       "1                        0              0              1586055  2660303   \n",
       "2                        0              0                    0    12961   \n",
       "3                        0              0                    0        0   \n",
       "4                       21              0              1617011    11350   \n",
       "\n",
       "   restricted_stock  restricted_stock_deferred  salary  \\\n",
       "0            585062                          0  365788   \n",
       "1           3942714                          0  267102   \n",
       "2           1788391                          0  170941   \n",
       "3            386335                          0       0   \n",
       "4            853064                          0  243293   \n",
       "\n",
       "   shared_receipt_with_poi  to_messages  total_payments  total_stock_value  \n",
       "0                      702          807         1061827             585062  \n",
       "1                        0            0         5634343           10623258  \n",
       "2                        0            0          211725            6678735  \n",
       "3                       58          764               0            1038185  \n",
       "4                     1035         1045          288682            6391065  "
      ]
     },
     "execution_count": 36,
     "metadata": {},
     "output_type": "execute_result"
    }
   ],
   "source": [
    "# deal with the missing data by setting their value to 0\n",
    "df.fillna(0, inplace=True)\n",
    "\n",
    "df.head()"
   ]
  },
  {
   "cell_type": "markdown",
   "metadata": {},
   "source": [
    "## Outlier removal\n",
    "If there are outliers, remove outliers\n",
    "\n",
    "This is an iteratable process. I need to do this for each combination of features I want to use\n"
   ]
  },
  {
   "cell_type": "code",
   "execution_count": 37,
   "metadata": {
    "collapsed": false
   },
   "outputs": [
    {
     "data": {
      "image/png": "[encoded data removed]",
      "text/plain": [
       "<matplotlib.figure.Figure at 0x11806bd50>"
      ]
     },
     "metadata": {},
     "output_type": "display_data"
    },
    {
     "name": "stdout",
     "output_type": "stream",
     "text": [
      "Clean data for outliers\n"
     ]
    }
   ],
   "source": [
    "compareTwoFeatures('salary', 'bonus', df)\n",
    "print \"Clean data for outliers\""
   ]
  },
  {
   "cell_type": "code",
   "execution_count": 38,
   "metadata": {
    "collapsed": false
   },
   "outputs": [
    {
     "data": {
      "image/png": "[encoded data removed]",
      "text/plain": [
       "<matplotlib.figure.Figure at 0x1172fee10>"
      ]
     },
     "metadata": {},
     "output_type": "display_data"
    }
   ],
   "source": [
    "ax = plt.plot(df['salary'], label='Salary', color=tableau20[0])\n",
    "\n",
    "_= plt.xlabel('datapoint value')\n",
    "_= plt.title('Salary')\n",
    "\n",
    "_= plt.legend()\n",
    "plt.show()"
   ]
  },
  {
   "cell_type": "code",
   "execution_count": 39,
   "metadata": {
    "collapsed": false
   },
   "outputs": [
    {
     "data": {
      "text/html": [
       "<div>\n",
       "<table border=\"1\" class=\"dataframe\">\n",
       "  <thead>\n",
       "    <tr style=\"text-align: right;\">\n",
       "      <th></th>\n",
       "      <th>poi</th>\n",
       "      <th>bonus</th>\n",
       "      <th>deferral_payments</th>\n",
       "      <th>deferred_income</th>\n",
       "      <th>director_fees</th>\n",
       "      <th>exercised_stock_options</th>\n",
       "      <th>expenses</th>\n",
       "      <th>from_messages</th>\n",
       "      <th>from_poi_to_this_person</th>\n",
       "      <th>from_this_person_to_poi</th>\n",
       "      <th>loan_advances</th>\n",
       "      <th>long_term_incentive</th>\n",
       "      <th>other</th>\n",
       "      <th>restricted_stock</th>\n",
       "      <th>restricted_stock_deferred</th>\n",
       "      <th>salary</th>\n",
       "      <th>shared_receipt_with_poi</th>\n",
       "      <th>to_messages</th>\n",
       "      <th>total_payments</th>\n",
       "      <th>total_stock_value</th>\n",
       "    </tr>\n",
       "  </thead>\n",
       "  <tbody>\n",
       "    <tr>\n",
       "      <th>104</th>\n",
       "      <td>0</td>\n",
       "      <td>97343619</td>\n",
       "      <td>32083396</td>\n",
       "      <td>-27992891</td>\n",
       "      <td>1398517</td>\n",
       "      <td>311764000</td>\n",
       "      <td>5235198</td>\n",
       "      <td>0</td>\n",
       "      <td>0</td>\n",
       "      <td>0</td>\n",
       "      <td>83925000</td>\n",
       "      <td>48521928</td>\n",
       "      <td>42667589</td>\n",
       "      <td>130322299</td>\n",
       "      <td>-7576788</td>\n",
       "      <td>26704229</td>\n",
       "      <td>0</td>\n",
       "      <td>0</td>\n",
       "      <td>309886585</td>\n",
       "      <td>434509511</td>\n",
       "    </tr>\n",
       "  </tbody>\n",
       "</table>\n",
       "</div>"
      ],
      "text/plain": [
       "     poi     bonus  deferral_payments  deferred_income  director_fees  \\\n",
       "104    0  97343619           32083396        -27992891        1398517   \n",
       "\n",
       "     exercised_stock_options  expenses  from_messages  \\\n",
       "104                311764000   5235198              0   \n",
       "\n",
       "     from_poi_to_this_person  from_this_person_to_poi  loan_advances  \\\n",
       "104                        0                        0       83925000   \n",
       "\n",
       "     long_term_incentive     other  restricted_stock  \\\n",
       "104             48521928  42667589         130322299   \n",
       "\n",
       "     restricted_stock_deferred    salary  shared_receipt_with_poi  \\\n",
       "104                   -7576788  26704229                        0   \n",
       "\n",
       "     to_messages  total_payments  total_stock_value  \n",
       "104            0       309886585          434509511  "
      ]
     },
     "execution_count": 39,
     "metadata": {},
     "output_type": "execute_result"
    }
   ],
   "source": [
    "df.loc[df['salary'] > 0.8 * 1e7] # This is where the outlier is, what I have to do now is find out who it is\n"
   ]
  },
  {
   "cell_type": "code",
   "execution_count": 40,
   "metadata": {
    "collapsed": false
   },
   "outputs": [
    {
     "data": {
      "text/plain": [
       "(array([57]), array([0]))"
      ]
     },
     "execution_count": 40,
     "metadata": {},
     "output_type": "execute_result"
    }
   ],
   "source": [
    "\n",
    "data = featureFormat(data_dict, ['bonus', 'salary'], remove_any_zeroes=True)\n",
    "np.where(data > 0.8 * 1e8) # This is where the outlier is, what I have to do now is find out who i"
   ]
  },
  {
   "cell_type": "code",
   "execution_count": 41,
   "metadata": {
    "collapsed": false
   },
   "outputs": [
    {
     "name": "stdout",
     "output_type": "stream",
     "text": [
      "TOTAL               salary is   $26,704,229.00 bonus      $97,343,619.00\n"
     ]
    }
   ],
   "source": [
    "for key, value in data_dict.iteritems():\n",
    "    if (value['bonus'] >= int(data[57][1]) and \n",
    "        value['bonus'] != \"NaN\" and\n",
    "        value['salary'] != \"NaN\"):\n",
    "        print \"{:20}{:12}${:<12,.2f}{:12}${:<12,.2f}\".format(key, 'salary is ', value['salary'],\n",
    "                                                   ' bonus ', value['bonus'])"
   ]
  },
  {
   "cell_type": "code",
   "execution_count": 17,
   "metadata": {
    "collapsed": false
   },
   "outputs": [],
   "source": [
    "\n",
    "df = df.drop(104)\n",
    "df = df.reset_index(drop=True)"
   ]
  },
  {
   "cell_type": "code",
   "execution_count": 19,
   "metadata": {
    "collapsed": false
   },
   "outputs": [
    {
     "name": "stdout",
     "output_type": "stream",
     "text": [
      "Deleted following records with keys:\n",
      "TOTAL\n"
     ]
    }
   ],
   "source": [
    "# Remove the source of the outlier\n",
    "\n",
    "data_dict.pop( 'TOTAL')\n",
    "#data_dict.pop( 'BHATNAGAR SANJAY')\n",
    "\n",
    "print \"Deleted following records with keys:\"\n",
    "print 'TOTAL'\n",
    "#print 'BHATNAGAR SANJAY'\n",
    "\n",
    "# We can now go back and rerun the regression to see what the data really looks like."
   ]
  },
  {
   "cell_type": "code",
   "execution_count": 18,
   "metadata": {
    "collapsed": false
   },
   "outputs": [
    {
     "data": {
      "text/plain": [
       "poi                                0\n",
       "bonus                              0\n",
       "deferral_payments                  0\n",
       "deferred_income                    0\n",
       "director_fees                      0\n",
       "exercised_stock_options      1324578\n",
       "expenses                           0\n",
       "from_messages                     36\n",
       "from_poi_to_this_person            0\n",
       "from_this_person_to_poi            0\n",
       "loan_advances                      0\n",
       "long_term_incentive                0\n",
       "other                              0\n",
       "restricted_stock              560170\n",
       "restricted_stock_deferred          0\n",
       "salary                             0\n",
       "shared_receipt_with_poi           10\n",
       "to_messages                      517\n",
       "total_payments                     0\n",
       "total_stock_value            1884748\n",
       "Name: 104, dtype: float64"
      ]
     },
     "execution_count": 18,
     "metadata": {},
     "output_type": "execute_result"
    }
   ],
   "source": [
    "df.loc[104]"
   ]
  },
  {
   "cell_type": "code",
   "execution_count": 20,
   "metadata": {
    "collapsed": false
   },
   "outputs": [
    {
     "data": {
      "image/png": "[encoded data removed]",
      "text/plain": [
       "<matplotlib.figure.Figure at 0x1179a4b50>"
      ]
     },
     "metadata": {},
     "output_type": "display_data"
    }
   ],
   "source": [
    "compareTwoFeatures('salary', 'bonus', df)"
   ]
  },
  {
   "cell_type": "markdown",
   "metadata": {},
   "source": [
    "## Task: Data exploration\n",
    "- Get descriptive statistics\n",
    "\n"
   ]
  },
  {
   "cell_type": "code",
   "execution_count": null,
   "metadata": {
    "collapsed": false,
    "scrolled": false
   },
   "outputs": [],
   "source": [
    "x = range(0,len(df))\n",
    "\n",
    "pltSalary = df['salary']\n",
    "\n",
    "ax = plt.plot(pltSalary, label='Salary', color=tableau20[0])\n",
    "fill_between(x, pltSalary, 0, alpha=0.5, color=tableau20[19])\n",
    "\n",
    "_= plt.xlabel('datapoint value')\n",
    "_= plt.title('Salary')\n",
    "\n",
    "#_= plt.legend(loc='upper center', shadow=True, fontsize='medium')\n",
    "_= plt.legend()\n",
    "plt.xlim(0, 94)\n",
    "plt.show()\n",
    "\n",
    "df['salary'].describe()\n"
   ]
  },
  {
   "cell_type": "code",
   "execution_count": null,
   "metadata": {
    "collapsed": false
   },
   "outputs": [],
   "source": [
    "x = range(0,len(df))\n",
    "\n",
    "plt.plot(x, df['exercised_stock_options'], label='Exercised Stock Options', color=tableau20[8])\n",
    "fill_between(x, df['exercised_stock_options'], 0, alpha=0.5, color=tableau20[19])\n",
    "\n",
    "_= plt.xlabel('datapoint value')\n",
    "_= plt.title('Exercised Stocks')\n",
    "\n",
    "_= plt.legend()\n",
    "plt.xlim(0, 100)\n",
    "plt.show()\n",
    "\n",
    "df['exercised_stock_options'].describe()"
   ]
  },
  {
   "cell_type": "code",
   "execution_count": null,
   "metadata": {
    "collapsed": false
   },
   "outputs": [],
   "source": [
    "x = range(0,len(df))\n",
    "\n",
    "plt.plot(x, df['restricted_stock'], label='Restricted Stock', color=tableau20[0])\n",
    "fill_between(x, df['restricted_stock'], 0, alpha=0.5, color=tableau20[4])\n",
    "\n",
    "_= plt.xlabel('datapoint value')\n",
    "_= plt.title('Restricted Stock')\n",
    "\n",
    "_= plt.legend()\n",
    "\n",
    "plt.xlim(0, 108)\n",
    "plt.show()\n",
    "\n",
    "df['restricted_stock'].describe()"
   ]
  },
  {
   "cell_type": "code",
   "execution_count": null,
   "metadata": {
    "collapsed": false
   },
   "outputs": [],
   "source": [
    "x = range(0,len(df))\n",
    "\n",
    "plt.plot(x, df['bonus'], label='Bonus', color=tableau20[0])\n",
    "fill_between(x, df['bonus'], 0, alpha=0.5, color=tableau20[4])\n",
    "\n",
    "_= plt.xlabel('datapoint value')\n",
    "_= plt.title('Bonus')\n",
    "plt.xlim(0, 81)\n",
    "_= plt.legend()\n",
    "\n",
    "df['bonus'].describe()"
   ]
  },
  {
   "cell_type": "code",
   "execution_count": null,
   "metadata": {
    "collapsed": false
   },
   "outputs": [],
   "source": [
    "f1, f2 = 'salary','exercised_stock_options'\n",
    "data = compareTwoFeatures(f1, f2, df)\n"
   ]
  },
  {
   "cell_type": "code",
   "execution_count": null,
   "metadata": {
    "collapsed": false
   },
   "outputs": [],
   "source": [
    "prtLaTex = 0\n",
    "threshold = 8000000\n",
    "printDataTableAtThreshold(f1, f2, data_dict, threshold, prtLaTex)"
   ]
  },
  {
   "cell_type": "code",
   "execution_count": null,
   "metadata": {
    "collapsed": false
   },
   "outputs": [],
   "source": [
    "f1, f2 = 'salary','restricted_stock'\n",
    "data = compareTwoFeatures(f1, f2, df)\n",
    "\n"
   ]
  },
  {
   "cell_type": "code",
   "execution_count": null,
   "metadata": {
    "collapsed": false
   },
   "outputs": [],
   "source": [
    "threshold = 3000000\n",
    "printDataTableAtThreshold(f1, f2, data_dict, threshold, prtLaTex)"
   ]
  },
  {
   "cell_type": "code",
   "execution_count": null,
   "metadata": {
    "collapsed": false
   },
   "outputs": [],
   "source": [
    "f1, f2 = 'salary','bonus'\n",
    "data = compareTwoFeatures(f1, f2, df)\n"
   ]
  },
  {
   "cell_type": "code",
   "execution_count": null,
   "metadata": {
    "collapsed": false
   },
   "outputs": [],
   "source": [
    "threshold = 4000000\n",
    "printDataTableAtThreshold(f1, f2, data_dict, threshold, prtLaTex)"
   ]
  },
  {
   "cell_type": "markdown",
   "metadata": {},
   "source": [
    "### Engineered Feature\n",
    "- #### Fraction of messages to and from POI"
   ]
  },
  {
   "cell_type": "markdown",
   "metadata": {},
   "source": [
    "## Task 3: Create new feature(s)\n",
    "- features_list is a list of strings, each of which is a feature name.\n",
    "- The first feature must be \"poi\".\n",
    "- Store to `my_dataset` for easy export below."
   ]
  },
  {
   "cell_type": "code",
   "execution_count": null,
   "metadata": {
    "collapsed": false
   },
   "outputs": [],
   "source": [
    "submit_dict = {}\n",
    "for name in data_dict:\n",
    "\n",
    "    data_point = data_dict[name]\n",
    "\n",
    "    from_poi_to_this_person = data_point[\"from_poi_to_this_person\"]\n",
    "    to_messages = data_point[\"to_messages\"]\n",
    "    fraction_from_poi = computeFraction( from_poi_to_this_person, to_messages )\n",
    "    data_point[\"fraction_from_poi\"] = fraction_from_poi\n",
    "\n",
    "\n",
    "    from_this_person_to_poi = data_point[\"from_this_person_to_poi\"]\n",
    "    from_messages = data_point[\"from_messages\"]\n",
    "    fraction_to_poi = computeFraction( from_this_person_to_poi, from_messages )\n",
    "    submit_dict[name]={\"from_poi_to_this_person\":fraction_from_poi,\n",
    "                       \"from_this_person_to_poi\":fraction_to_poi}\n",
    "    \n",
    "    data_point[\"fraction_to_poi\"] = fraction_to_poi\n",
    "    \n"
   ]
  },
  {
   "cell_type": "markdown",
   "metadata": {},
   "source": [
    "Extract features and labels from dataset"
   ]
  },
  {
   "cell_type": "code",
   "execution_count": null,
   "metadata": {
    "collapsed": false
   },
   "outputs": [],
   "source": [
    "feature_list = ['poi', 'bonus', 'exercised_stock_options', 'restricted_stock']\n",
    "#'fraction_from_poi','fraction_to_poi',\n",
    "#'from_poi_to_this_person','from_this_person_to_poi','salary']\n",
    "\n",
    "my_dataset = data_dict\n",
    "\n",
    "data = featureFormat(my_dataset, feature_list, sort_keys = True)\n",
    "labels, features = targetFeatureSplit(data)\n",
    "\n",
    "print \"The features we are using to train our model are as follows:\"\n",
    "print feature_list"
   ]
  },
  {
   "cell_type": "markdown",
   "metadata": {},
   "source": [
    "## Adhoc Features\n",
    "\n",
    "['poi', 'bonus', 'exercised_stock_options', 'restricted_stock']\n",
    " #'fraction_from_poi','fraction_to_poi',\n",
    " #'from_poi_to_this_person','from_this_person_to_poi','salary']\n",
    " \n",
    " ## XGBoost Features\n",
    "['poi', 'expenses', 'other', 'deferred_income', 'from_poi_to_this_person', 'exercised_stock_options', 'salary', 'total_stock_value', 'total_payments', 'bonus', 'long_term_incentive', 'restricted_stock_deferred', 'from_messages', 'shared_receipt_with_poi', 'deferral_payments', 'to_messages']\n",
    "\n",
    "## Random Forest Features\n",
    "\n",
    "['poi', 'exercised_stock_options', 'total_stock_value', 'bonus', 'expenses', 'other', 'total_payments', 'restricted_stock', 'deferred_income', 'shared_receipt_with_poi', 'salary']"
   ]
  },
  {
   "cell_type": "markdown",
   "metadata": {},
   "source": [
    "# Pick and Tune an Algorithm\n",
    "## Task 4: Try a variety of classifiers\n",
    "- Please name your classifier clf for easy export below.\n",
    "- Note that if you want to do PCA or other multi-stage operations, you'll need to use Pipelines. For more info: http://scikit-learn.org/stable/modules/pipeline.html\n",
    "\n",
    "# Validate and Evaluate\n",
    "## Task 5: Tune your classifier\n",
    "- Achieve better than .3 precision and recall. Using our testing script. Check the `tester.py` script in the final project folder for details on the evaluation method, especially the validateClf function. Because of the small size of the dataset, the script uses `stratified shuffle split cross validation`. For more info: http://scikit-learn.org/stable/modules/generated/sklearn.cross_validation.StratifiedShuffleSplit.html\n"
   ]
  },
  {
   "cell_type": "code",
   "execution_count": null,
   "metadata": {
    "collapsed": false
   },
   "outputs": [],
   "source": [
    "feature_list"
   ]
  },
  {
   "cell_type": "code",
   "execution_count": null,
   "metadata": {
    "collapsed": false
   },
   "outputs": [],
   "source": [
    "from sklearn.cross_validation import cross_val_score \n",
    "from sklearn.metrics import precision_score, confusion_matrix, classification_report\n",
    "from sklearn.ensemble import ExtraTreesClassifier\n",
    "\n",
    "folds = 1000\n",
    "\n",
    "\n",
    "clf = ExtraTreesClassifier()\n",
    "print '_'*20, clf.__class__.__name__, '_'*20\n",
    "print \"Training the data\"\n",
    "\n",
    "\n",
    "t0 = time()\n",
    "results_et = validateClf(clf, my_dataset, feature_list, folds)\n",
    "print(\"done in %0.3fs\" % (time() - t0)) \n",
    "\n",
    "cm_et = [[results_et['true_negatives'], results_et['false_negatives']],\n",
    "     [results_et['true_positives'], results_et['false_positives']]]\n"
   ]
  },
  {
   "cell_type": "code",
   "execution_count": null,
   "metadata": {
    "collapsed": false
   },
   "outputs": [],
   "source": [
    "\n",
    "from sklearn.ensemble import RandomForestClassifier\n",
    "from time import time\n",
    "\n",
    "\n",
    "clf = RandomForestClassifier()\n",
    "print '_'*20, clf.__class__.__name__, '_'*20\n",
    "print \"Training the data\"\n",
    "\n",
    "\n",
    "t0 = time()\n",
    "results_rf = validateClf(clf, my_dataset, feature_list, folds)\n",
    "print(\"done in %0.3fs\" % (time() - t0))\n",
    "\n",
    "cm_rf = [[results_rf['true_negatives'], results_rf['false_negatives']],\n",
    "     [results_rf['true_positives'], results_rf['false_positives']]]\n"
   ]
  },
  {
   "cell_type": "code",
   "execution_count": null,
   "metadata": {
    "collapsed": false
   },
   "outputs": [],
   "source": [
    "from sklearn.linear_model import LogisticRegression\n",
    "\n",
    "clf = LogisticRegression(penalty='l1')\n",
    "\n",
    "print '_'*20, clf.__class__.__name__, '_'*20\n",
    "print \"Training the data\"\n",
    "\n",
    "t0 = time()\n",
    "scores = cross_val_score(clf, features, labels, cv=10)\n",
    "results_lr= validateClf(clf, my_dataset, feature_list, folds)\n",
    "print(\"done in %0.3fs\" % (time() - t0))\n",
    "\n",
    "cm_lr = [[results_lr['true_negatives'], results_lr['false_negatives']],\n",
    "     [results_lr['true_positives'], results_lr['false_positives']]]\n"
   ]
  },
  {
   "cell_type": "code",
   "execution_count": null,
   "metadata": {
    "collapsed": false
   },
   "outputs": [],
   "source": [
    "from xgboost import XGBClassifier as XGBC\n",
    "\n",
    "\n",
    "clf = XGBC()\n",
    "\n",
    "print '_'*20, clf.__class__.__name__, '_'*20\n",
    "print \"Training the data\"\n",
    "\n",
    "\n",
    "t0 = time()\n",
    "results_xgb = validateClf(clf, my_dataset, feature_list, folds)\n",
    "print(\"done in %0.3fs\" % (time() - t0))  \n",
    "\n",
    "cm_xgb = [[results_xgb['true_negatives'], results_xgb['false_negatives']],\n",
    "     [results_xgb['true_positives'], results_xgb['false_positives']]]\n"
   ]
  },
  {
   "cell_type": "code",
   "execution_count": null,
   "metadata": {
    "collapsed": true
   },
   "outputs": [],
   "source": [
    "results = [results_et, results_lr, results_rf, results_xgb]"
   ]
  },
  {
   "cell_type": "code",
   "execution_count": null,
   "metadata": {
    "collapsed": false
   },
   "outputs": [],
   "source": [
    "printClassifierOutputTable(results, 0)"
   ]
  },
  {
   "cell_type": "markdown",
   "metadata": {},
   "source": [
    "## Tune choosen algorithm"
   ]
  },
  {
   "cell_type": "code",
   "execution_count": null,
   "metadata": {
    "collapsed": false
   },
   "outputs": [],
   "source": [
    "from sklearn.grid_search import GridSearchCV\n",
    "from sklearn.cross_validation import StratifiedShuffleSplit\n",
    "\n",
    "print '_'*20, 'Tuning XGBoost', '_'*20\n",
    "print \"Training the data\"\n",
    "\n",
    "\n",
    "# max_delta_step, Maximum delta step we allow each tree's weight estimation to be. \n",
    "# If the value is set to 0, it means there is no constraint. If it is set to a positive value, \n",
    "# it can help making the update step more conservative. Usually this parameter is not needed, \n",
    "# but it might help in logistic regression when class is extremely imbalanced. \n",
    "# Set it to value of 1-10 might help control the update\n",
    "\n",
    "cv_params = {'max_depth': [3,5,7],\n",
    "             'min_child_weight': [1,3,5],\n",
    "             'max_delta_step':[0, 1, 2],\n",
    "             'learning_rate': [0.01, 0.1, 0.02, 0.2]}\n",
    "\n",
    "params = {}\n",
    "params['colsample_bytree'] = 1\n",
    "params['objective'] = 'binary:logistic'\n",
    "\n",
    "# Build a stratified shuffle object because of unbalanced data\n",
    "folds = 1000\n",
    "ssscv = StratifiedShuffleSplit(labels, folds, random_state = 42)\n",
    "\n",
    "\n",
    "grid = GridSearchCV(XGBC(**params), \n",
    "                            cv_params, cv=ssscv, n_jobs = -1) \n",
    "grid.fit(features, labels)\n",
    "\n",
    "# Optimize for precision\n",
    "\n",
    "\n"
   ]
  },
  {
   "cell_type": "code",
   "execution_count": null,
   "metadata": {
    "collapsed": false
   },
   "outputs": [],
   "source": [
    "clf =  grid.best_estimator_\n",
    "print clf\n",
    "results_tuning = validateClf(clf, my_dataset, feature_list, folds)\n",
    "\n",
    "print \"\\n\"\n",
    "print '_'*20, 'Metrics of tuned '+clf.__class__.__name__, '_'*20, '\\n'\n",
    "print \"precision : %.3f\" % results_tuning['precision']\n",
    "print \"recall, : %.3f\" % results_tuning['recall']\n",
    "print \"f1 : %.3f\" % results_tuning['f1']\n"
   ]
  },
  {
   "cell_type": "markdown",
   "metadata": {},
   "source": [
    "XGBClassifier(base_score=0.5, colsample_bylevel=1, colsample_bytree=1,\n",
    "       gamma=0, learning_rate=0.02, max_delta_step=1, max_depth=3,\n",
    "       min_child_weight=1, missing=None, n_estimators=100, nthread=-1,\n",
    "       objective='binary:logistic', reg_alpha=0, reg_lambda=1,\n",
    "       scale_pos_weight=1, seed=0, silent=True, subsample=1)\n",
    "\n",
    "\n",
    "____________________ Metrics of tuned XGBClassifier ____________________ \n",
    "\n",
    "precision : 0.639\n",
    "recall, : 0.318\n",
    "f1 : 0.424\n"
   ]
  },
  {
   "cell_type": "markdown",
   "metadata": {},
   "source": [
    "## Task 6: Export solution\n",
    "Dump your classifier, dataset, and features_list so anyone can check your results. You do not need to change anything below, but make sure that the version of `poi_id.py` that you submit can be run on its own and generates the necessary .pkl files for validating your results."
   ]
  },
  {
   "cell_type": "code",
   "execution_count": null,
   "metadata": {
    "collapsed": false
   },
   "outputs": [],
   "source": [
    "dump_classifier_and_data(clf, my_dataset, feature_list)"
   ]
  }
 ],
 "metadata": {
  "kernelspec": {
   "display_name": "Python 2",
   "language": "python",
   "name": "python2"
  },
  "language_info": {
   "codemirror_mode": {
    "name": "ipython",
    "version": 2
   },
   "file_extension": ".py",
   "mimetype": "text/x-python",
   "name": "python",
   "nbconvert_exporter": "python",
   "pygments_lexer": "ipython2",
   "version": "2.7.11"
  }
 },
 "nbformat": 4,
 "nbformat_minor": 0
}
