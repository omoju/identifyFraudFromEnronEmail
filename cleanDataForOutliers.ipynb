{
 "cells": [
  {
   "cell_type": "markdown",
   "metadata": {},
   "source": [
    "## Data Exploration\n",
    "\n"
   ]
  },
  {
   "cell_type": "code",
   "execution_count": 1,
   "metadata": {
    "collapsed": false
   },
   "outputs": [
    {
     "name": "stdout",
     "output_type": "stream",
     "text": [
      "Populating the interactive namespace from numpy and matplotlib\n"
     ]
    }
   ],
   "source": [
    "%pylab inline"
   ]
  },
  {
   "cell_type": "code",
   "execution_count": 2,
   "metadata": {
    "collapsed": false
   },
   "outputs": [],
   "source": [
    "import sys\n",
    "from time import time\n",
    "import matplotlib as pl\n",
    "import matplotlib.pyplot as plt\n",
    "import pickle"
   ]
  },
  {
   "cell_type": "code",
   "execution_count": 3,
   "metadata": {
    "collapsed": false
   },
   "outputs": [],
   "source": [
    "dataPath = '/Users/omojumiller/mycode/MachineLearningNanoDegree/IntroToMachineLearning/'\n",
    "sys.path.append(dataPath+'tools/')\n",
    "sys.path.append(dataPath+'final_project/')\n",
    "\n",
    "from feature_format import featureFormat, targetFeatureSplit\n",
    "from tester import dump_classifier_and_data\n",
    "from helper_files import compareTwoFeatures, computeFraction"
   ]
  },
  {
   "cell_type": "code",
   "execution_count": 4,
   "metadata": {
    "collapsed": false
   },
   "outputs": [],
   "source": [
    "### Load the dictionary containing the dataset\n",
    "\n",
    "with open(dataPath+'final_project/final_project_dataset.pkl', \"r\") as data_file:\n",
    "    data_dict = pickle.load(data_file)"
   ]
  },
  {
   "cell_type": "code",
   "execution_count": 5,
   "metadata": {
    "collapsed": false
   },
   "outputs": [
    {
     "data": {
      "text/plain": [
       "146"
      ]
     },
     "execution_count": 5,
     "metadata": {},
     "output_type": "execute_result"
    }
   ],
   "source": [
    "len(data_dict)"
   ]
  },
  {
   "cell_type": "markdown",
   "metadata": {},
   "source": [
    "## Task: Data exploration\n",
    "- Get descriptive statistics\n",
    "- If there are outliers, remove outliers\n",
    "\n",
    "This is an iteratable process. I need to do this for each combination of features I want to use\n"
   ]
  },
  {
   "cell_type": "code",
   "execution_count": 6,
   "metadata": {
    "collapsed": true
   },
   "outputs": [],
   "source": [
    "## Creating a pandas dataframe so that we can easily get descriptive statistics about our features\n",
    "\n",
    "import itertools\n",
    "\n",
    "\n",
    "salary = featureFormat(data_dict, ['salary'], remove_any_zeroes=True)\n",
    "bonus = featureFormat(data_dict, ['bonus'], remove_any_zeroes=True)\n",
    "exerStockOptions = featureFormat(data_dict, ['exercised_stock_options'], remove_any_zeroes=True)\n",
    "restrictedStock = featureFormat(data_dict, ['restricted_stock'], remove_any_zeroes=True)\n",
    "\n",
    "bonus = list(itertools.chain.from_iterable(bonus))\n",
    "salary = list(itertools.chain.from_iterable(salary))\n",
    "exerStockOptions = list(itertools.chain.from_iterable(exerStockOptions))\n",
    "restrictedStock = list(itertools.chain.from_iterable(restrictedStock))\n",
    "\n",
    "\n"
   ]
  },
  {
   "cell_type": "code",
   "execution_count": 7,
   "metadata": {
    "collapsed": false
   },
   "outputs": [
    {
     "name": "stdout",
     "output_type": "stream",
     "text": [
      "110\n",
      "110\n",
      "110\n"
     ]
    }
   ],
   "source": [
    "## Pad feature list with zeros to ensure all columns have equal lenght\n",
    "## Otherwise we won't be able to transfor the individual feature list into a dataframe\n",
    "\n",
    "size = len(restrictedStock) - len(bonus)\n",
    "temp = [0.0] * size \n",
    "\n",
    "bonus = bonus + temp\n",
    "print len(bonus)\n",
    "\n",
    "\n",
    "size = len(restrictedStock) - len(salary)\n",
    "temp = [0.0] * size \n",
    "\n",
    "salary = salary + temp\n",
    "print len(salary)\n",
    "\n",
    "\n",
    "size = len(restrictedStock) - len(exerStockOptions)\n",
    "temp = [0.0] * size \n",
    "\n",
    "exerStockOptions = exerStockOptions + temp\n",
    "print len(exerStockOptions)"
   ]
  },
  {
   "cell_type": "code",
   "execution_count": 31,
   "metadata": {
    "collapsed": false
   },
   "outputs": [
    {
     "data": {
      "image/png": "[encoded data removed]",
      "text/plain": [
       "<matplotlib.figure.Figure at 0x117eeccd0>"
      ]
     },
     "metadata": {},
     "output_type": "display_data"
    }
   ],
   "source": [
    "import pandas as pd\n",
    "\n",
    "\n",
    "df = pd.DataFrame({'salary': salary, 'bonus': bonus, 'exercisedStockOptions': exerStockOptions, \n",
    "                   'restrictedStock': restrictedStock})\n",
    "\n",
    "\n",
    "\n",
    "ax = df['salary'].plot()\n",
    "ax.yaxis.tick_right()\n",
    "\n",
    "_= plt.xlabel('datapoint value')\n",
    "_= plt.title('Salary')\n",
    "_ = plt.annotate('outlier', xy=(69, 2.5e7), xytext=(70, 2.8),\n",
    "            arrowprops=dict(facecolor='black', shrink=0.8),\n",
    "            )\n",
    "_= plt.legend(loc='upper center', shadow=True, fontsize='medium')"
   ]
  },
  {
   "cell_type": "code",
   "execution_count": 14,
   "metadata": {
    "collapsed": false
   },
   "outputs": [
    {
     "data": {
      "text/plain": [
       "count         110.000000\n",
       "mean       485531.436364\n",
       "std       2529982.802874\n",
       "min             0.000000\n",
       "25%        176245.750000\n",
       "50%        247677.500000\n",
       "75%        288581.250000\n",
       "max      26704229.000000\n",
       "Name: salary, dtype: float64"
      ]
     },
     "execution_count": 14,
     "metadata": {},
     "output_type": "execute_result"
    }
   ],
   "source": [
    "df['salary'].describe()"
   ]
  },
  {
   "cell_type": "code",
   "execution_count": null,
   "metadata": {
    "collapsed": true
   },
   "outputs": [],
   "source": []
  },
  {
   "cell_type": "code",
   "execution_count": 15,
   "metadata": {
    "collapsed": false
   },
   "outputs": [
    {
     "data": {
      "image/png": "[encoded data removed]",
      "text/plain": [
       "<matplotlib.figure.Figure at 0x11724c490>"
      ]
     },
     "metadata": {},
     "output_type": "display_data"
    }
   ],
   "source": [
    "data = compareTwoFeatures('salary', 'bonus', data_dict, \"SALARY versus BONUS\")"
   ]
  },
  {
   "cell_type": "markdown",
   "metadata": {},
   "source": [
    "1. I need to find out where that outlier is\n",
    "2. Find out who it is"
   ]
  },
  {
   "cell_type": "code",
   "execution_count": 16,
   "metadata": {
    "collapsed": false
   },
   "outputs": [
    {
     "data": {
      "text/plain": [
       "(array([57]), array([1]))"
      ]
     },
     "execution_count": 16,
     "metadata": {},
     "output_type": "execute_result"
    }
   ],
   "source": [
    "np.where(data > 0.8 * 1e8) # This is where the outlier is, what I have to do now is find out who it is\n"
   ]
  },
  {
   "cell_type": "code",
   "execution_count": 17,
   "metadata": {
    "collapsed": false
   },
   "outputs": [
    {
     "data": {
      "text/plain": [
       "array([ 26704229.,  97343619.])"
      ]
     },
     "execution_count": 17,
     "metadata": {},
     "output_type": "execute_result"
    }
   ],
   "source": [
    "data[57] # So whose bonus is 97343619?\n",
    "# What’s the name of the dictionary key of this data point?"
   ]
  },
  {
   "cell_type": "code",
   "execution_count": null,
   "metadata": {
    "collapsed": false
   },
   "outputs": [],
   "source": [
    "for key, value in data_dict.iteritems():\n",
    "    if (value['bonus'] >= int(data[57][1]) and \n",
    "        value['bonus'] != \"NaN\" and\n",
    "        value['salary'] != \"NaN\"):\n",
    "        print \"{:20}{:12}${:<12,.2f}{:12}${:<12,.2f}\".format(key, 'salary is ', value['salary'],\n",
    "                                                   ' bonus ', value['bonus'])\n"
   ]
  },
  {
   "cell_type": "markdown",
   "metadata": {},
   "source": [
    "Found the source of the outlier. It was the `TOTAL` row that was mistakenly read into the data dict"
   ]
  },
  {
   "cell_type": "code",
   "execution_count": null,
   "metadata": {
    "collapsed": false
   },
   "outputs": [],
   "source": [
    "# Remove the source of the outlier\n",
    "data_dict.pop( 'TOTAL')\n",
    "\n",
    "# We can now go back and rerun the regression to see what the data really looks like."
   ]
  },
  {
   "cell_type": "code",
   "execution_count": null,
   "metadata": {
    "collapsed": false
   },
   "outputs": [],
   "source": [
    "data = compareTwoFeatures('salary', 'bonus', data_dict, \"SALARY versus BONUS cleansed of outliers\")"
   ]
  },
  {
   "cell_type": "markdown",
   "metadata": {},
   "source": [
    "## Task 6: Export data \n",
    "Dump  dataset to a .pkl file."
   ]
  },
  {
   "cell_type": "code",
   "execution_count": null,
   "metadata": {
    "collapsed": false
   },
   "outputs": [],
   "source": [
    "DATASET_PICKLE_FILENAME = \"cleaned_dataset.pkl\"\n",
    "\n",
    "with open(DATASET_PICKLE_FILENAME, \"w\") as dataset_outfile:\n",
    "    pickle.dump(data_dict, dataset_outfile)\n",
    "   "
   ]
  },
  {
   "cell_type": "code",
   "execution_count": null,
   "metadata": {
    "collapsed": true
   },
   "outputs": [],
   "source": []
  }
 ],
 "metadata": {
  "kernelspec": {
   "display_name": "Python 2",
   "language": "python",
   "name": "python2"
  },
  "language_info": {
   "codemirror_mode": {
    "name": "ipython",
    "version": 2
   },
   "file_extension": ".py",
   "mimetype": "text/x-python",
   "name": "python",
   "nbconvert_exporter": "python",
   "pygments_lexer": "ipython2",
   "version": "2.7.11"
  }
 },
 "nbformat": 4,
 "nbformat_minor": 0
}
