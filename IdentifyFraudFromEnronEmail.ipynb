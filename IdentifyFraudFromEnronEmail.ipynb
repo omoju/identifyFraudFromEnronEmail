{
 "cells": [
  {
   "cell_type": "markdown",
   "metadata": {},
   "source": [
    "## Identify Fraud from Enron Email\n",
    "#### Project Overview\n",
    "In this project, you will play detective, and put your machine learning skills to use by building an algorithm to identify Enron Employees who may have committed fraud based on the public Enron financial and email dataset.\n",
    "\n",
    "#### Project Introduction\n",
    "In 2000, Enron was one of the largest companies in the United States. By 2002, it had collapsed into bankruptcy due to widespread corporate fraud. In the resulting Federal investigation, there was a significant amount of typically confidential information entered into public record, including tens of thousands of emails and detailed financial data for top executives. In this project, you will play detective, and put your new skills to use by building a person of interest identifier based on financial and email data made public as a result of the Enron scandal. To assist you in your detective work, we've combined this data with a hand-generated list of persons of interest in the fraud case, which means individuals who were indicted, reached a settlement, or plea deal with the government, or testified in exchange for prosecution immunity.\n",
    "\n"
   ]
  },
  {
   "cell_type": "code",
   "execution_count": 1,
   "metadata": {
    "collapsed": false
   },
   "outputs": [
    {
     "name": "stdout",
     "output_type": "stream",
     "text": [
      "Populating the interactive namespace from numpy and matplotlib\n"
     ]
    }
   ],
   "source": [
    "%pylab inline"
   ]
  },
  {
   "cell_type": "code",
   "execution_count": 2,
   "metadata": {
    "collapsed": false
   },
   "outputs": [],
   "source": [
    "import sys\n",
    "from time import time\n",
    "import matplotlib as pl\n",
    "import matplotlib.pyplot as plt\n",
    "import pickle"
   ]
  },
  {
   "cell_type": "code",
   "execution_count": 3,
   "metadata": {
    "collapsed": false
   },
   "outputs": [],
   "source": [
    "dataPath = '/Users/omojumiller/mycode/MachineLearningNanoDegree/IntroToMachineLearning/'\n",
    "sys.path.append(dataPath+'tools/')\n",
    "sys.path.append(dataPath+'final_project/')\n",
    "\n",
    "from feature_format import featureFormat, targetFeatureSplit\n",
    "from tester import dump_classifier_and_data, test_classifier\n",
    "from helper_files import compareTwoFeatures, computeFraction, findPersonBasedOnTwoFeatures"
   ]
  },
  {
   "cell_type": "markdown",
   "metadata": {},
   "source": [
    "# Optimize Feature Selection/Engineering\n",
    "## Task 1: Feature selection\n",
    "\n",
    "The dataset used in this project is stored in a Python dictionary created by combining the Enron email and financial data, where each key-value pair in the dictionary corresponds to one person. The dictionary key is the person's name, and the value is another dictionary, which contains the names of all the features and their values for that person. The features in the data fall into three major types, namely financial features, email features and POI labels.\n",
    "\n",
    "financial features: ['salary', 'deferral_payments', 'total_payments', 'loan_advances', 'bonus', 'restricted_stock_deferred', 'deferred_income', 'total_stock_value', 'expenses', 'exercised_stock_options', 'other', 'long_term_incentive', 'restricted_stock', 'director_fees']\n",
    "\n",
    "email features: ['to_messages', 'email_address', 'from_poi_to_this_person', 'from_messages', 'from_this_person_to_poi', 'shared_receipt_with_poi']\n",
    "\n",
    "POI label: [‘poi’]\n",
    "\n",
    "You can take a look at this [enron61702insiderpay.pdf](enron61702insiderpay.pdf) file to get a feel of the data yourself.\n"
   ]
  },
  {
   "cell_type": "code",
   "execution_count": 4,
   "metadata": {
    "collapsed": false
   },
   "outputs": [],
   "source": [
    "### Load the dictionary containing the dataset\n",
    "### The data that I am loading in here is the one that has be cleansed of outliers. \n",
    "### For more information on that, refer to the notebook titled \"cleanDataForOutliers\" in the same folder.\n",
    "\n",
    "with open('cleaned_dataset.pkl', \"r\") as data_file:\n",
    "    data_dict = pickle.load(data_file)"
   ]
  },
  {
   "cell_type": "code",
   "execution_count": 5,
   "metadata": {
    "collapsed": false
   },
   "outputs": [
    {
     "data": {
      "text/plain": [
       "{'bonus': 1000000,\n",
       " 'deferral_payments': 'NaN',\n",
       " 'deferred_income': 'NaN',\n",
       " 'director_fees': 'NaN',\n",
       " 'email_address': 'lou.pai@enron.com',\n",
       " 'exercised_stock_options': 15364167,\n",
       " 'expenses': 32047,\n",
       " 'from_messages': 'NaN',\n",
       " 'from_poi_to_this_person': 'NaN',\n",
       " 'from_this_person_to_poi': 'NaN',\n",
       " 'loan_advances': 'NaN',\n",
       " 'long_term_incentive': 'NaN',\n",
       " 'other': 1829457,\n",
       " 'poi': False,\n",
       " 'restricted_stock': 8453763,\n",
       " 'restricted_stock_deferred': 'NaN',\n",
       " 'salary': 261879,\n",
       " 'shared_receipt_with_poi': 'NaN',\n",
       " 'to_messages': 'NaN',\n",
       " 'total_payments': 3123383,\n",
       " 'total_stock_value': 23817930}"
      ]
     },
     "execution_count": 5,
     "metadata": {},
     "output_type": "execute_result"
    }
   ],
   "source": [
    "data_dict['PAI LOU L']"
   ]
  },
  {
   "cell_type": "markdown",
   "metadata": {},
   "source": [
    "## Task: Data exploration\n",
    "- Get descriptive statistics\n",
    "\n"
   ]
  },
  {
   "cell_type": "code",
   "execution_count": 10,
   "metadata": {
    "collapsed": true
   },
   "outputs": [],
   "source": [
    "## Creating a pandas dataframe so that we can easily get descriptive statistics about our features\n",
    "\n",
    "import itertools\n",
    "\n",
    "\n",
    "salary = featureFormat(data_dict, ['salary'], remove_any_zeroes=True)\n",
    "bonus = featureFormat(data_dict, ['bonus'], remove_any_zeroes=True)\n",
    "exerStockOptions = featureFormat(data_dict, ['exercised_stock_options'], remove_any_zeroes=True)\n",
    "restrictedStock = featureFormat(data_dict, ['restricted_stock'], remove_any_zeroes=True)\n",
    "\n",
    "bonus = list(itertools.chain.from_iterable(bonus))\n",
    "salary = list(itertools.chain.from_iterable(salary))\n",
    "exerStockOptions = list(itertools.chain.from_iterable(exerStockOptions))\n",
    "restrictedStock = list(itertools.chain.from_iterable(restrictedStock))\n",
    "\n",
    "\n"
   ]
  },
  {
   "cell_type": "code",
   "execution_count": 11,
   "metadata": {
    "collapsed": false
   },
   "outputs": [
    {
     "name": "stdout",
     "output_type": "stream",
     "text": [
      "108\n",
      "108\n",
      "108\n"
     ]
    }
   ],
   "source": [
    "## Pad feature list with zeros to ensure all columns have equal lenght\n",
    "## Otherwise we won't be able to transfor the individual feature list into a dataframe\n",
    "\n",
    "size = len(restrictedStock) - len(bonus)\n",
    "temp = [0.0] * size \n",
    "\n",
    "bonus = bonus + temp\n",
    "print len(bonus)\n",
    "\n",
    "\n",
    "size = len(restrictedStock) - len(salary)\n",
    "temp = [0.0] * size \n",
    "\n",
    "salary = salary + temp\n",
    "print len(salary)\n",
    "\n",
    "\n",
    "size = len(restrictedStock) - len(exerStockOptions)\n",
    "temp = [0.0] * size \n",
    "\n",
    "exerStockOptions = exerStockOptions + temp\n",
    "print len(exerStockOptions)"
   ]
  },
  {
   "cell_type": "code",
   "execution_count": 13,
   "metadata": {
    "collapsed": false
   },
   "outputs": [
    {
     "data": {
      "text/plain": [
       "count        108.000000\n",
       "mean      247261.379630\n",
       "std       190947.697178\n",
       "min            0.000000\n",
       "25%       180245.250000\n",
       "50%       247677.500000\n",
       "75%       288565.750000\n",
       "max      1111258.000000\n",
       "Name: salary, dtype: float64"
      ]
     },
     "execution_count": 13,
     "metadata": {},
     "output_type": "execute_result"
    },
    {
     "data": {
      "image/png": "[encoded data removed]",
      "text/plain": [
       "<matplotlib.figure.Figure at 0x10c179210>"
      ]
     },
     "metadata": {},
     "output_type": "display_data"
    }
   ],
   "source": [
    "import pandas as pd\n",
    "\n",
    "\n",
    "df = pd.DataFrame({'salary': salary, 'bonus': bonus, 'exercisedStockOptions': exerStockOptions, \n",
    "                   'restrictedStock': restrictedStock})\n",
    "\n",
    "ax = df['salary'].plot()\n",
    "ax.yaxis.tick_right()\n",
    "\n",
    "_= plt.xlabel('datapoint value')\n",
    "_= plt.title('Salary')\n",
    "\n",
    "_= plt.legend(loc='upper center', shadow=True, fontsize='medium')\n",
    "\n",
    "df['salary'].describe()\n"
   ]
  },
  {
   "cell_type": "code",
   "execution_count": 14,
   "metadata": {
    "collapsed": false
   },
   "outputs": [
    {
     "data": {
      "text/plain": [
       "count         108.000000\n",
       "mean      2743620.324074\n",
       "std       5373267.548420\n",
       "min             0.000000\n",
       "25%        381597.250000\n",
       "50%        946696.500000\n",
       "75%       2234398.250000\n",
       "max      34348384.000000\n",
       "Name: exercisedStockOptions, dtype: float64"
      ]
     },
     "execution_count": 14,
     "metadata": {},
     "output_type": "execute_result"
    },
    {
     "data": {
      "image/png": "[encoded data removed]",
      "text/plain": [
       "<matplotlib.figure.Figure at 0x117305fd0>"
      ]
     },
     "metadata": {},
     "output_type": "display_data"
    }
   ],
   "source": [
    "ax2 = df['exercisedStockOptions'].plot()\n",
    "ax2.yaxis.tick_right()\n",
    "\n",
    "_= plt.xlabel('datapoint value')\n",
    "_= plt.title('Exercised Stocks')\n",
    "\n",
    "_= plt.legend(loc='upper center', shadow=True, fontsize='medium')\n",
    "\n",
    "df['exercisedStockOptions'].describe()"
   ]
  },
  {
   "cell_type": "code",
   "execution_count": 15,
   "metadata": {
    "collapsed": false
   },
   "outputs": [
    {
     "data": {
      "text/plain": [
       "count         108.000000\n",
       "mean      1182164.037037\n",
       "std       2230693.279997\n",
       "min         32460.000000\n",
       "25%        257944.000000\n",
       "50%        451740.000000\n",
       "75%        990811.250000\n",
       "max      14761694.000000\n",
       "Name: restrictedStock, dtype: float64"
      ]
     },
     "execution_count": 15,
     "metadata": {},
     "output_type": "execute_result"
    },
    {
     "data": {
      "image/png": "[encoded data removed]",
      "text/plain": [
       "<matplotlib.figure.Figure at 0x10eb7eb90>"
      ]
     },
     "metadata": {},
     "output_type": "display_data"
    }
   ],
   "source": [
    "ax2 = df['restrictedStock'].plot()\n",
    "ax2.yaxis.tick_right()\n",
    "\n",
    "_= plt.xlabel('datapoint value')\n",
    "_= plt.title('Restricted Stock')\n",
    "\n",
    "_= plt.legend(loc='upper center', shadow=True, fontsize='medium')\n",
    "\n",
    "df['restrictedStock'].describe()"
   ]
  },
  {
   "cell_type": "code",
   "execution_count": 16,
   "metadata": {
    "collapsed": false
   },
   "outputs": [
    {
     "data": {
      "text/plain": [
       "count        108.000000\n",
       "mean      901329.805556\n",
       "std      1351777.657207\n",
       "min            0.000000\n",
       "25%        52500.000000\n",
       "50%       600000.000000\n",
       "75%      1000000.000000\n",
       "max      8000000.000000\n",
       "Name: bonus, dtype: float64"
      ]
     },
     "execution_count": 16,
     "metadata": {},
     "output_type": "execute_result"
    },
    {
     "data": {
      "image/png": "[encoded data removed]",
      "text/plain": [
       "<matplotlib.figure.Figure at 0x10ebcd350>"
      ]
     },
     "metadata": {},
     "output_type": "display_data"
    }
   ],
   "source": [
    "ax2 = df['bonus'].plot()\n",
    "ax2.yaxis.tick_right()\n",
    "\n",
    "_= plt.xlabel('datapoint value')\n",
    "_= plt.title('Bonus')\n",
    "\n",
    "_= plt.legend(loc='upper center', shadow=True, fontsize='medium')\n",
    "\n",
    "df['bonus'].describe()"
   ]
  },
  {
   "cell_type": "code",
   "execution_count": 17,
   "metadata": {
    "collapsed": true
   },
   "outputs": [],
   "source": [
    "def printLatex(feature1, feature2, the_data_dict, treshold):\n",
    "    def getKey(item):\n",
    "        return item[2]\n",
    "\n",
    "    temp = []\n",
    "    for key, value in the_data_dict.iteritems():\n",
    "        if (value[feature1] != \"NaN\") and (value[feature2] != \"NaN\" and value[feature2] > treshold):\n",
    "            temp.append(( key, value[feature1], value[feature2]))\n",
    "            \n",
    "    ### print out in ascending order of feature2    \n",
    "    temp = sorted(temp, key=getKey)\n",
    "    print \"{:20}{:3}{:14}{:3}{:12}{:3}\".format(\"Name\".upper(), '&', feature1.upper(), '&', feature2.upper(), '\\\\\\\\')\n",
    "    \n",
    "    for item in temp:    \n",
    "        print \"{:20}{:3}\\${:<14,.2f}{:3}{:12,}{:3}\".format(item[0], '&', item[1], '&', item[2], '\\\\\\\\')\n",
    "           \n",
    "    "
   ]
  },
  {
   "cell_type": "code",
   "execution_count": 18,
   "metadata": {
    "collapsed": false
   },
   "outputs": [
    {
     "data": {
      "image/png": "[encoded data removed]",
      "text/plain": [
       "<matplotlib.figure.Figure at 0x10ec72f90>"
      ]
     },
     "metadata": {},
     "output_type": "display_data"
    }
   ],
   "source": [
    "f1, f2 = 'salary','exercised_stock_options'\n",
    "data = compareTwoFeatures(f1, f2, data_dict, \"SALARY versus EXERCISED STOCK OPTIONS\")\n"
   ]
  },
  {
   "cell_type": "code",
   "execution_count": 8,
   "metadata": {
    "collapsed": false
   },
   "outputs": [
    {
     "name": "stdout",
     "output_type": "stream",
     "text": [
      "NAME                &  SALARY        &  EXERCISED_STOCK_OPTIONS\\\\ \n",
      "DIMICHELE RICHARD G &  \\$262,788.00    &     8,191,755\\\\ \n",
      "YEAGER F SCOTT      &  \\$158,403.00    &     8,308,552\\\\ \n",
      "DERRICK JR. JAMES V &  \\$492,375.00    &     8,831,913\\\\ \n",
      "FREVERT MARK A      &  \\$1,060,932.00  &    10,433,518\\\\ \n",
      "PAI LOU L           &  \\$261,879.00    &    15,364,167\\\\ \n",
      "SKILLING JEFFREY K  &  \\$1,111,258.00  &    19,250,000\\\\ \n",
      "RICE KENNETH D      &  \\$420,636.00    &    19,794,175\\\\ \n",
      "LAY KENNETH L       &  \\$1,072,321.00  &    34,348,384\\\\ \n"
     ]
    }
   ],
   "source": [
    "treshold = 8000000\n",
    "printLatex(f1, f2, data_dict, treshold)"
   ]
  },
  {
   "cell_type": "code",
   "execution_count": 19,
   "metadata": {
    "collapsed": false
   },
   "outputs": [
    {
     "data": {
      "image/png": "[encoded data removed]",
      "text/plain": [
       "<matplotlib.figure.Figure at 0x11736fad0>"
      ]
     },
     "metadata": {},
     "output_type": "display_data"
    }
   ],
   "source": [
    "f1, f2 = 'salary','restricted_stock'\n",
    "data = compareTwoFeatures(f1, f2, data_dict, \"SALARY versus RESTRICTED STOCK\")\n",
    "\n"
   ]
  },
  {
   "cell_type": "code",
   "execution_count": null,
   "metadata": {
    "collapsed": false
   },
   "outputs": [],
   "source": [
    "treshold = 3000000\n",
    "printLatex(f1, f2, data_dict, treshold)"
   ]
  },
  {
   "cell_type": "code",
   "execution_count": null,
   "metadata": {
    "collapsed": false
   },
   "outputs": [],
   "source": [
    "f1, f2 = 'salary','bonus'\n",
    "data = compareTwoFeatures(f1, f2, data_dict, \"SALARY versus BONUS\")\n",
    "\n",
    "data = featureFormat(data_dict, [f2], remove_any_zeroes=True)\n",
    "\n",
    "_= plt.plot(data, color=\"blue\", label=f2)\n",
    "_= plt.legend(loc='upper right', shadow=True, fontsize='small')\n",
    "_= plt.xlabel('Employee number', fontsize=10)\n",
    "_= plt.ylabel('Counts', fontsize=10)\n",
    "_= plt.title('BONUS')\n",
    "\n",
    "plt.show()"
   ]
  },
  {
   "cell_type": "code",
   "execution_count": null,
   "metadata": {
    "collapsed": false
   },
   "outputs": [],
   "source": [
    "treshold = 4000000\n",
    "printLatex(f1, f2, data_dict, treshold)"
   ]
  },
  {
   "cell_type": "code",
   "execution_count": null,
   "metadata": {
    "collapsed": false
   },
   "outputs": [],
   "source": [
    "data_dict['LAVORATO JOHN J']"
   ]
  },
  {
   "cell_type": "code",
   "execution_count": null,
   "metadata": {
    "collapsed": false
   },
   "outputs": [],
   "source": [
    "import pandas as pd\n",
    "\n",
    "data = pd.DataFrame({'poi':labels})\n",
    "ax = data.plot.hist()\n",
    "ax.yaxis.tick_right()\n",
    "\n",
    "_= plt.xlabel('datapoint value')\n",
    "_= plt.title('Histogram of Person of Interest')\n",
    "_= plt.legend(loc='upper center', shadow=True, fontsize='medium')\n",
    "_= plt.axis([0, 1, 0, 200])\n"
   ]
  },
  {
   "cell_type": "markdown",
   "metadata": {},
   "source": [
    "### Engineered Feature\n",
    "- #### Fraction of messages to and from POI"
   ]
  },
  {
   "cell_type": "code",
   "execution_count": null,
   "metadata": {
    "collapsed": false
   },
   "outputs": [],
   "source": [
    "submit_dict = {}\n",
    "for name in data_dict:\n",
    "\n",
    "    data_point = data_dict[name]\n",
    "\n",
    "    from_poi_to_this_person = data_point[\"from_poi_to_this_person\"]\n",
    "    to_messages = data_point[\"to_messages\"]\n",
    "    fraction_from_poi = computeFraction( from_poi_to_this_person, to_messages )\n",
    "    #print'{:5}{:35}{:.2f}'.format('FROM ', name, fraction_from_poi)\n",
    "    data_point[\"fraction_from_poi\"] = fraction_from_poi\n",
    "\n",
    "\n",
    "    from_this_person_to_poi = data_point[\"from_this_person_to_poi\"]\n",
    "    from_messages = data_point[\"from_messages\"]\n",
    "    fraction_to_poi = computeFraction( from_this_person_to_poi, from_messages )\n",
    "    #print fraction_to_poi\n",
    "    #print'{:5}{:35}{:.2f}'.format('TO: ', name, fraction_to_poi)\n",
    "    submit_dict[name]={\"from_poi_to_this_person\":fraction_from_poi,\n",
    "                       \"from_this_person_to_poi\":fraction_to_poi}\n",
    "    \n",
    "    data_point[\"fraction_to_poi\"] = fraction_to_poi\n",
    "    \n"
   ]
  },
  {
   "cell_type": "code",
   "execution_count": null,
   "metadata": {
    "collapsed": false
   },
   "outputs": [],
   "source": [
    "f1, f2 = 'fraction_from_poi','fraction_to_poi'\n",
    "data = compareTwoFeatures(f1, f2, data_dict, '')"
   ]
  },
  {
   "cell_type": "markdown",
   "metadata": {},
   "source": [
    "## PCA"
   ]
  },
  {
   "cell_type": "code",
   "execution_count": null,
   "metadata": {
    "collapsed": false
   },
   "outputs": [],
   "source": []
  },
  {
   "cell_type": "markdown",
   "metadata": {},
   "source": [
    "## Task 3: Create new feature(s)\n",
    "- features_list is a list of strings, each of which is a feature name.\n",
    "- The first feature must be \"poi\".\n",
    "- Store to `my_dataset` for easy export below."
   ]
  },
  {
   "cell_type": "code",
   "execution_count": null,
   "metadata": {
    "collapsed": true
   },
   "outputs": [],
   "source": [
    "feature_list = ['poi','salary', 'bonus', 'exercised_stock_options', 'restricted_stock']\n",
    "# 'fraction_from_poi','fraction_to_poi',\n",
    "# 'from_poi_to_this_person','from_this_person_to_poi'\n",
    "#  \n"
   ]
  },
  {
   "cell_type": "code",
   "execution_count": null,
   "metadata": {
    "collapsed": false
   },
   "outputs": [],
   "source": [
    "my_dataset = data_dict"
   ]
  },
  {
   "cell_type": "markdown",
   "metadata": {},
   "source": [
    "Extract features and labels from dataset for local testing"
   ]
  },
  {
   "cell_type": "code",
   "execution_count": null,
   "metadata": {
    "collapsed": false
   },
   "outputs": [],
   "source": [
    "data = featureFormat(my_dataset, feature_list\n",
    "                     , sort_keys = True)\n",
    "labels, features = targetFeatureSplit(data)"
   ]
  },
  {
   "cell_type": "markdown",
   "metadata": {},
   "source": [
    "# Pick and Tune an Algorithm\n",
    "## Task 4: Try a variety of classifiers\n",
    "- Please name your classifier clf for easy export below.\n",
    "- Note that if you want to do PCA or other multi-stage operations, you'll need to use Pipelines. For more info: http://scikit-learn.org/stable/modules/pipeline.html\n",
    "\n",
    "# Validate and Evaluate\n",
    "## Task 5: Tune your classifier\n",
    "- Achieve better than .3 precision and recall. Using our testing script. Check the `tester.py` script in the final project folder for details on the evaluation method, especially the test_classifier function. Because of the small size of the dataset, the script uses `stratified shuffle split cross validation`. For more info: http://scikit-learn.org/stable/modules/generated/sklearn.cross_validation.StratifiedShuffleSplit.html\n"
   ]
  },
  {
   "cell_type": "code",
   "execution_count": null,
   "metadata": {
    "collapsed": false
   },
   "outputs": [],
   "source": [
    "from sklearn.cross_validation import StratifiedShuffleSplit\n",
    "from sklearn.cross_validation import cross_val_score \n",
    "\n",
    "from sklearn.ensemble import RandomForestClassifier\n",
    "\n",
    "clf = RandomForestClassifier(n_estimators=100)\n",
    "scores = cross_val_score(clf, features, labels)\n",
    "print scores, \"\\n\"        \n",
    "\n",
    "test_classifier(clf, my_dataset, feature_list, folds = 100)"
   ]
  },
  {
   "cell_type": "code",
   "execution_count": null,
   "metadata": {
    "collapsed": false
   },
   "outputs": [],
   "source": [
    "from sklearn.ensemble import AdaBoostClassifier\n",
    "\n",
    "clf = AdaBoostClassifier(n_estimators=10)   \n",
    "scores = cross_val_score(clf, features, labels)\n",
    "print scores, \"\\n\"\n",
    "\n",
    "test_classifier(clf, my_dataset, feature_list, folds = 100)"
   ]
  },
  {
   "cell_type": "code",
   "execution_count": null,
   "metadata": {
    "collapsed": false
   },
   "outputs": [],
   "source": [
    "from sklearn.ensemble import ExtraTreesClassifier\n",
    "\n",
    "clf = ExtraTreesClassifier(n_estimators=10, max_depth=None, min_samples_split=1, random_state=0)\n",
    "scores = cross_val_score(clf, features, labels)\n",
    "print scores, \"\\n\"\n",
    "\n",
    "test_classifier(clf, my_dataset, feature_list, folds = 100)"
   ]
  },
  {
   "cell_type": "markdown",
   "metadata": {},
   "source": [
    "## Task 6: Export solution\n",
    "Dump your classifier, dataset, and features_list so anyone can check your results. You do not need to change anything below, but make sure that the version of `poi_id.py` that you submit can be run on its own and generates the necessary .pkl files for validating your results."
   ]
  },
  {
   "cell_type": "code",
   "execution_count": null,
   "metadata": {
    "collapsed": false
   },
   "outputs": [],
   "source": [
    "#dump_classifier_and_data(clf, my_dataset, feature_list)"
   ]
  },
  {
   "cell_type": "code",
   "execution_count": null,
   "metadata": {
    "collapsed": true
   },
   "outputs": [],
   "source": []
  }
 ],
 "metadata": {
  "kernelspec": {
   "display_name": "Python 2",
   "language": "python",
   "name": "python2"
  },
  "language_info": {
   "codemirror_mode": {
    "name": "ipython",
    "version": 2
   },
   "file_extension": ".py",
   "mimetype": "text/x-python",
   "name": "python",
   "nbconvert_exporter": "python",
   "pygments_lexer": "ipython2",
   "version": "2.7.11"
  }
 },
 "nbformat": 4,
 "nbformat_minor": 0
}
